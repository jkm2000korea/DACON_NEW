{
 "cells": [
  {
   "cell_type": "markdown",
   "id": "dff55f66",
   "metadata": {
    "ExecuteTime": {
     "end_time": "2021-09-14T03:54:13.677155Z",
     "start_time": "2021-09-14T03:54:13.667797Z"
    }
   },
   "source": [
    "<div style=\"text-align: right\"> Final edit : 2021.10.15 </div>"
   ]
  },
  {
   "cell_type": "markdown",
   "id": "fb9dfb2e",
   "metadata": {},
   "source": [
    "# [데이콘] 데이터 분석 및 모델링 최종\n",
    "\n",
    "* 대회 : [화학] 와인품질 분류-교육\n",
    "* 주최 : 데이콘\n",
    "* 데이터 다운로드 : https://dacon.io/competitions/open/235610/overview/description\n",
    "* 정리 : Jupyter Notebook"
   ]
  },
  {
   "cell_type": "markdown",
   "id": "d3460461",
   "metadata": {},
   "source": [
    "## 일반적인 머신러닝(ML), 딥러닝(DL) 문제해결 프로세스\n",
    "\n",
    "    1. 데이터 로드\n",
    "    2. 결측치 확인 및 제거\n",
    "    3. 이상치 확인 및 제거\n",
    "    4. 변수선택\n",
    "    5. 데이터 정규화\n",
    "    6. 모델 생성 및 학습\n",
    "     6-1 Regression :LASSO, Ridge 모델 \n",
    "     (제외) 6-2 Deep Learning : Keras 기본모델\n",
    "     6-3. RandomForestRegressor\n",
    "    7. Grid Search\n",
    "    8. Cross Validation"
   ]
  },
  {
   "cell_type": "markdown",
   "id": "b5d635ea",
   "metadata": {},
   "source": [
    "# 1. 데이터 로드"
   ]
  },
  {
   "cell_type": "code",
   "execution_count": 1,
   "id": "32e36c2d",
   "metadata": {
    "ExecuteTime": {
     "end_time": "2021-10-04T22:55:35.131591Z",
     "start_time": "2021-10-04T22:55:31.998203Z"
    }
   },
   "outputs": [],
   "source": [
    "# 모듈 불러오기\n",
    "import pandas as pd\n",
    "import numpy as np\n",
    "\n",
    "# 시각화 모듈 불러오기\n",
    "%matplotlib inline\n",
    "import matplotlib.pyplot as plt"
   ]
  },
  {
   "cell_type": "markdown",
   "id": "576edde2",
   "metadata": {
    "ExecuteTime": {
     "end_time": "2021-08-27T00:31:29.882872Z",
     "start_time": "2021-08-27T00:31:29.864722Z"
    }
   },
   "source": [
    "#### 1) 데이터 셋 split (train, test)"
   ]
  },
  {
   "cell_type": "code",
   "execution_count": 2,
   "id": "732bf9be",
   "metadata": {
    "ExecuteTime": {
     "end_time": "2021-10-04T22:55:36.322537Z",
     "start_time": "2021-10-04T22:55:36.240206Z"
    }
   },
   "outputs": [],
   "source": [
    "# 데이터 로드\n",
    "train = pd.read_csv('./data/train.csv')\n",
    "test = pd.read_csv('./data/test.csv')"
   ]
  },
  {
   "cell_type": "code",
   "execution_count": 3,
   "id": "6bd40c6a",
   "metadata": {
    "ExecuteTime": {
     "end_time": "2021-10-04T22:55:36.813187Z",
     "start_time": "2021-10-04T22:55:36.800091Z"
    }
   },
   "outputs": [
    {
     "name": "stdout",
     "output_type": "stream",
     "text": [
      "(5497, 14)\n",
      "(1000, 13)\n"
     ]
    }
   ],
   "source": [
    "print(train.shape)\n",
    "print(test.shape)"
   ]
  },
  {
   "cell_type": "markdown",
   "id": "194d9c0b",
   "metadata": {
    "ExecuteTime": {
     "end_time": "2021-08-27T00:33:20.447079Z",
     "start_time": "2021-08-27T00:33:20.431071Z"
    }
   },
   "source": [
    "* train data<br>\n",
    "학습용 데이터는 5,497 행, 14개 변수로 이뤄져 있습니다.<br>\n",
    "변수는 독립변수가 13개, 종속변수(target y : qualtiy) 1개로서 총 14개 입니다.\n",
    "\n",
    "* test data<br>\n",
    "테스트용 데이터는 1,000 행, 13개 변수로 이뤄져 있습니다.<br>\n",
    "target y : qualtiy는 제외되었습니다."
   ]
  },
  {
   "cell_type": "code",
   "execution_count": 4,
   "id": "49154afb",
   "metadata": {
    "ExecuteTime": {
     "end_time": "2021-10-04T22:55:37.990164Z",
     "start_time": "2021-10-04T22:55:37.935766Z"
    }
   },
   "outputs": [
    {
     "name": "stdout",
     "output_type": "stream",
     "text": [
      "<class 'pandas.core.frame.DataFrame'>\n",
      "RangeIndex: 5497 entries, 0 to 5496\n",
      "Data columns (total 14 columns):\n",
      " #   Column                Non-Null Count  Dtype  \n",
      "---  ------                --------------  -----  \n",
      " 0   index                 5497 non-null   int64  \n",
      " 1   quality               5497 non-null   int64  \n",
      " 2   fixed acidity         5497 non-null   float64\n",
      " 3   volatile acidity      5497 non-null   float64\n",
      " 4   citric acid           5497 non-null   float64\n",
      " 5   residual sugar        5497 non-null   float64\n",
      " 6   chlorides             5497 non-null   float64\n",
      " 7   free sulfur dioxide   5497 non-null   float64\n",
      " 8   total sulfur dioxide  5497 non-null   float64\n",
      " 9   density               5497 non-null   float64\n",
      " 10  pH                    5497 non-null   float64\n",
      " 11  sulphates             5497 non-null   float64\n",
      " 12  alcohol               5497 non-null   float64\n",
      " 13  type                  5497 non-null   object \n",
      "dtypes: float64(11), int64(2), object(1)\n",
      "memory usage: 601.4+ KB\n"
     ]
    }
   ],
   "source": [
    "# 학습 데이터에 대한 전반적인 데이터 정보를 살펴봅니다.\n",
    "train.info()"
   ]
  },
  {
   "cell_type": "markdown",
   "id": "87d721df",
   "metadata": {},
   "source": [
    "# 2. 결측치 확인 및 제거"
   ]
  },
  {
   "cell_type": "markdown",
   "id": "f3159f14",
   "metadata": {
    "ExecuteTime": {
     "end_time": "2021-08-27T00:39:30.350022Z",
     "start_time": "2021-08-27T00:39:30.344431Z"
    }
   },
   "source": [
    "#### 1) 결측치를 확인합니다"
   ]
  },
  {
   "cell_type": "code",
   "execution_count": 5,
   "id": "edce099d",
   "metadata": {
    "ExecuteTime": {
     "end_time": "2021-10-04T22:55:39.627576Z",
     "start_time": "2021-10-04T22:55:39.596746Z"
    }
   },
   "outputs": [
    {
     "data": {
      "text/plain": [
       "index                   0\n",
       "quality                 0\n",
       "fixed acidity           0\n",
       "volatile acidity        0\n",
       "citric acid             0\n",
       "residual sugar          0\n",
       "chlorides               0\n",
       "free sulfur dioxide     0\n",
       "total sulfur dioxide    0\n",
       "density                 0\n",
       "pH                      0\n",
       "sulphates               0\n",
       "alcohol                 0\n",
       "type                    0\n",
       "dtype: int64"
      ]
     },
     "execution_count": 5,
     "metadata": {},
     "output_type": "execute_result"
    }
   ],
   "source": [
    "train.isnull().sum()"
   ]
  },
  {
   "cell_type": "markdown",
   "id": "00a59999",
   "metadata": {
    "ExecuteTime": {
     "end_time": "2021-08-27T00:35:38.470635Z",
     "start_time": "2021-08-27T00:35:38.455560Z"
    }
   },
   "source": [
    "실무 데이터에서는 결측치가 반드시 존재하는데 본 데이터는 이미 제거가 되었습니다.<br>\n",
    "결측치 확인은 train.isnull().sum() 를 통해 확인 할 수도 있고, 아래 코드로 시각화해서 확인할 수도 있습니다."
   ]
  },
  {
   "cell_type": "code",
   "execution_count": 6,
   "id": "44d514a7",
   "metadata": {
    "ExecuteTime": {
     "end_time": "2021-10-04T22:55:44.250629Z",
     "start_time": "2021-10-04T22:55:40.829084Z"
    }
   },
   "outputs": [
    {
     "data": {
      "text/plain": [
       "<AxesSubplot:>"
      ]
     },
     "execution_count": 6,
     "metadata": {},
     "output_type": "execute_result"
    },
    {
     "data": {
      "image/png": "[encoded data removed]",
      "text/plain": [
       "<Figure size 1800x720 with 2 Axes>"
      ]
     },
     "metadata": {
      "needs_background": "light"
     },
     "output_type": "display_data"
    }
   ],
   "source": [
    "# !pip install missingno\n",
    "import matplotlib.pyplot as plt\n",
    "import missingno as msno\n",
    "\n",
    "%matplotlib inline\n",
    "\n",
    "# 변수명이 한글로 구성되어 있다면 다음 코드로 폰트를 설정합니다.\n",
    "plt.rc('font', family = 'NanumGothic')\n",
    "msno.matrix(train)"
   ]
  },
  {
   "cell_type": "markdown",
   "id": "fb679638",
   "metadata": {},
   "source": [
    "# 3. 이상치 확인 및 제거"
   ]
  },
  {
   "cell_type": "markdown",
   "id": "dc0f71f2",
   "metadata": {},
   "source": [
    "#### 1) 이상치를 확인해기 위해서는 변수별 EDA를 수행해야 합니다.\n",
    "통일성을 위해서 주어진 방법을 쓰겠습니다."
   ]
  },
  {
   "cell_type": "code",
   "execution_count": 7,
   "id": "e19fe74c",
   "metadata": {
    "ExecuteTime": {
     "end_time": "2021-10-04T22:55:46.313909Z",
     "start_time": "2021-10-04T22:55:46.302012Z"
    }
   },
   "outputs": [
    {
     "data": {
      "text/plain": [
       "Index(['index', 'quality', 'fixed acidity', 'volatile acidity', 'citric acid',\n",
       "       'residual sugar', 'chlorides', 'free sulfur dioxide',\n",
       "       'total sulfur dioxide', 'density', 'pH', 'sulphates', 'alcohol',\n",
       "       'type'],\n",
       "      dtype='object')"
      ]
     },
     "execution_count": 7,
     "metadata": {},
     "output_type": "execute_result"
    }
   ],
   "source": [
    "train.columns"
   ]
  },
  {
   "cell_type": "code",
   "execution_count": 8,
   "id": "c47e0c1f",
   "metadata": {
    "ExecuteTime": {
     "end_time": "2021-10-04T22:55:46.943115Z",
     "start_time": "2021-10-04T22:55:46.926363Z"
    }
   },
   "outputs": [
    {
     "data": {
      "text/plain": [
       "0       white\n",
       "1         red\n",
       "2       white\n",
       "3       white\n",
       "4       white\n",
       "        ...  \n",
       "5492    white\n",
       "5493    white\n",
       "5494    white\n",
       "5495    white\n",
       "5496    white\n",
       "Name: type, Length: 5497, dtype: object"
      ]
     },
     "execution_count": 8,
     "metadata": {},
     "output_type": "execute_result"
    }
   ],
   "source": [
    "train['type']"
   ]
  },
  {
   "cell_type": "code",
   "execution_count": 9,
   "id": "d8da76fe",
   "metadata": {
    "ExecuteTime": {
     "end_time": "2021-10-04T22:56:01.429126Z",
     "start_time": "2021-10-04T22:55:48.300897Z"
    }
   },
   "outputs": [
    {
     "data": {
      "image/png": "[encoded data removed]",
      "text/plain": [
       "<Figure size 1296x720 with 12 Axes>"
      ]
     },
     "metadata": {
      "needs_background": "light"
     },
     "output_type": "display_data"
    }
   ],
   "source": [
    "import seaborn as sns\n",
    "import warnings\n",
    "warnings.filterwarnings(action='ignore')\n",
    "\n",
    "# 컬럼별 Data 분포 히스토그램\n",
    "\n",
    "fig, ax = plt.subplots(nrows = 3, ncols = 4, figsize = (18, 10))\n",
    "num = 0\n",
    "\n",
    "ax = ax.flatten()\n",
    "for col in list(train.columns[1:13]): # 13번째 변수인 type은 범주형 변수로서 int 형으로 변환할 예정입니다.\n",
    "    sns.distplot(train[col], ax = ax[num], kde = True, rug = True) # 커넬밀도추정 KDE : histogram은 구간 bin 분할에 따라 왜곡\n",
    "    num += 1    \n",
    "plt.show()"
   ]
  },
  {
   "cell_type": "code",
   "execution_count": 11,
   "id": "558fda1a",
   "metadata": {
    "ExecuteTime": {
     "end_time": "2021-10-04T22:56:22.168499Z",
     "start_time": "2021-10-04T22:56:17.747472Z"
    }
   },
   "outputs": [
    {
     "data": {
      "image/png": "[encoded data removed]",
      "text/plain": [
       "<Figure size 1296x720 with 12 Axes>"
      ]
     },
     "metadata": {
      "needs_background": "light"
     },
     "output_type": "display_data"
    }
   ],
   "source": [
    "#컬럼별 Data 분포 Boxplot\n",
    "fig, ax = plt.subplots(nrows = 3, ncols = 4, figsize = (18, 10))\n",
    "num = 0\n",
    "ax = ax.flatten()\n",
    "for col in list(train.columns[1:13]):\n",
    "    sns.boxplot(train[col], ax = ax[num])\n",
    "    num += 1    \n",
    "plt.show()"
   ]
  },
  {
   "cell_type": "markdown",
   "id": "9ac18c74",
   "metadata": {},
   "source": [
    "변수별 boxplot을 살펴보면 각 변수별 통계적 이상치가 존재하는 것을 알수 있습니다.<br>\n",
    "이상치는 제거 하거나 대체할 때는 Domain Knowledge가 필요합니다.<br>\n",
    "우선 와인에 대한 Domain Knowledge가 없는 상태이므로 제거하지는 않겠습니다."
   ]
  },
  {
   "cell_type": "markdown",
   "id": "74ecdbb5",
   "metadata": {
    "ExecuteTime": {
     "end_time": "2021-08-27T00:48:35.396481Z",
     "start_time": "2021-08-27T00:48:35.378409Z"
    }
   },
   "source": [
    "#### 2) 이상치 제거(방법, 우리는 skip 하겠습니다)"
   ]
  },
  {
   "cell_type": "markdown",
   "id": "712dd50a",
   "metadata": {
    "ExecuteTime": {
     "end_time": "2021-08-27T00:52:08.118943Z",
     "start_time": "2021-08-27T00:52:08.111253Z"
    }
   },
   "source": [
    "교과서적인 방법으로는 1분위 값과 3분위 값의 차이를 IQR로 설정하고,  \n",
    "1분위값과 3분위값에서 IQR값의 1.5배수 만큼 큰 값과 작은 값은 이상치로 판단 합니다.  \n",
    "위의 BOX PLOT에서 점으로 표현된 값을 제거한다고 보면 됩니다.\n",
    "\n",
    "다시 한번, 이것은 교과서적인 방법이며 실무에서는 그렇게 제거해서는 안됩니다.\n",
    "도메인 지식에 기반하여 이상치를 검토하고 제거 또는 대체해야 합니다."
   ]
  },
  {
   "cell_type": "code",
   "execution_count": 38,
   "id": "fcd881ee",
   "metadata": {
    "ExecuteTime": {
     "end_time": "2021-09-07T04:42:06.805395Z",
     "start_time": "2021-09-07T04:42:06.793453Z"
    }
   },
   "outputs": [],
   "source": [
    "# 통계적 이상치를 제거하는 방법에 대해서 아래 코드를 참고해주세요"
   ]
  },
  {
   "cell_type": "code",
   "execution_count": 11,
   "id": "815fbd2f",
   "metadata": {
    "ExecuteTime": {
     "end_time": "2021-09-07T04:37:28.774944Z",
     "start_time": "2021-09-07T04:37:28.760987Z"
    }
   },
   "outputs": [
    {
     "data": {
      "text/plain": [
       "'\\nquartile_1 = train.quantile(0.25)\\nquartile_3 = train.quantile(0.75)\\n\\nIQR = quartile_3 - quartile_1\\ncondition = (train < (quartile_1 - 1.5 * IQR)) | (train > (quartile_3 + 1.5 * IQR))\\ncondition = condition.any(axis=1)\\ntrain = train[condition]\\nprint(train.shape)\\n'"
      ]
     },
     "execution_count": 11,
     "metadata": {},
     "output_type": "execute_result"
    }
   ],
   "source": [
    "'''\n",
    "quartile_1 = train.quantile(0.25)\n",
    "quartile_3 = train.quantile(0.75)\n",
    "\n",
    "IQR = quartile_3 - quartile_1\n",
    "condition = (train < (quartile_1 - 1.5 * IQR)) | (train > (quartile_3 + 1.5 * IQR))\n",
    "condition = condition.any(axis=1)\n",
    "train = train[condition]\n",
    "print(train.shape)\n",
    "'''"
   ]
  },
  {
   "cell_type": "markdown",
   "id": "21313d20",
   "metadata": {},
   "source": [
    "* __범주형 변수에 대해 수치형(int 정수) 변수로 변환해주겠습니다.<br>__\n",
    "통상적으로는 pandas.get_dummies 함수를 사용합니다.  \n",
    "\n",
    "\n",
    "* __pandas 공식 Document 참고<br>__\n",
    "https://pandas.pydata.org/docs/reference/api/pandas.get_dummies.html"
   ]
  },
  {
   "cell_type": "code",
   "execution_count": 12,
   "id": "4631bf1f",
   "metadata": {
    "ExecuteTime": {
     "end_time": "2021-10-04T22:56:27.036733Z",
     "start_time": "2021-10-04T22:56:27.003780Z"
    }
   },
   "outputs": [],
   "source": [
    "# type에는 white와 red 두 종류가 있습니다.\n",
    "# 각각 0,1로 변환합니다.\n",
    "train['type'] = train['type'].map({'white':0, 'red':1}).astype(int)\n",
    "test['type'] = test['type'].map({'white':0, 'red':1}).astype(int)"
   ]
  },
  {
   "cell_type": "markdown",
   "id": "03b68d18",
   "metadata": {},
   "source": [
    "# 4. 변수선택\n",
    "변수선택을 위해 각 변수의 영향도를 검토해야 합니다."
   ]
  },
  {
   "cell_type": "markdown",
   "id": "7862b03e",
   "metadata": {},
   "source": [
    "#### 1) 우선 상관관계를 그려보겠습니다."
   ]
  },
  {
   "cell_type": "code",
   "execution_count": 13,
   "id": "2c568577",
   "metadata": {
    "ExecuteTime": {
     "end_time": "2021-10-04T22:56:33.440460Z",
     "start_time": "2021-10-04T22:56:28.482534Z"
    }
   },
   "outputs": [
    {
     "data": {
      "image/png": "[encoded data removed]",
      "text/plain": [
       "<Figure size 1152x864 with 2 Axes>"
      ]
     },
     "metadata": {},
     "output_type": "display_data"
    }
   ],
   "source": [
    "import matplotlib.pyplot as plt\n",
    "import seaborn as sns\n",
    "import numpy as np\n",
    "\n",
    "# Seabon 패키지에서 한글폰트 설정합니다.\n",
    "sns.set(font=\"NanumGothic\")\n",
    "\n",
    "# 경고메세지는 무시하겠습니다.\n",
    "import warnings\n",
    "warnings.filterwarnings(action='ignore')\n",
    "\n",
    "# \n",
    "features = ['fixed acidity', 'volatile acidity', 'citric acid',\\\n",
    "       'residual sugar', 'chlorides', 'free sulfur dioxide',\\\n",
    "       'total sulfur dioxide', 'density', 'pH', 'sulphates', 'alcohol',\\\n",
    "       'type','quality']\n",
    "\n",
    "\n",
    "# 삼각형 마스크를 만든다(위 쪽 삼각형에 True, 아래 삼각형에 False)\n",
    "mask = np.zeros_like(train[features].corr(), dtype=np.bool) \n",
    "mask[np.triu_indices_from(mask)] = True \n",
    "\n",
    "f, ax = plt.subplots(figsize=(16, 12))\n",
    "plt.title('Pearson Correlation Matrix',fontsize=25)\n",
    "\n",
    "sns.heatmap(train[features].corr(),\n",
    "            linewidths=0.25,# 경계면 선구분 cf. 실선(0.5)으로 구분하기\n",
    "            vmax=0.7, # 컬러바 범위 : 최소값 미지정 최대값 0.7 \n",
    "            square=True,\n",
    "            cmap=\"Blues\", #히트맵 색깔. blue, green #\"BuGn_r\" to reverse # Blues # BuGn\n",
    "            linecolor='w',# 라인 색은 흰색(white)\n",
    "            \n",
    "            annot=True,            # 실제 값을 표시한다\n",
    "            annot_kws={\"size\":10},  # 실제값 폰트 사이즈\n",
    "            mask=mask,             # 위에서 설정한 마스크 부분(가릴부분) 지정한다\n",
    "            cbar_kws={\"shrink\": .9}); # 오른쪽 컬러바 크기 줄이기 90% 크기"
   ]
  },
  {
   "cell_type": "markdown",
   "id": "06d180a6",
   "metadata": {},
   "source": [
    "* 맨 아래 target y 변수인 quality 를 보면, <br>\n",
    "**alcohol(알콜도수)** 처럼 색이 짙은 변수일수록 상관계수가 높습니다.<br>\n",
    "* 반면에 fixed acid나 citric acid처럼 상관관계가 0.1 이하인 변수들도 있습니다.<BR>  \n",
    "    \n",
    "\n",
    "* 상관관계는 양의 상관관계와 음의 상관관계가 있고, 약한 상관관계와 강한 상관관계가 있습니다.\n",
    "* 음의 상관관계도 고려해야하므로, 통상 상관계수에 절대값을 취해서 0.1(자체 판단)이하 변수를 제거합니다.<BR>\n",
    "  : Domain Knowledge가 중요 요소이므로 본 과제에서는 변수제거 파트에서 SKIP 하겠습니다."
   ]
  },
  {
   "cell_type": "code",
   "execution_count": 16,
   "id": "21e33746",
   "metadata": {
    "ExecuteTime": {
     "end_time": "2021-10-04T22:57:02.364854Z",
     "start_time": "2021-10-04T22:57:02.326627Z"
    },
    "scrolled": true
   },
   "outputs": [
    {
     "name": "stdout",
     "output_type": "stream",
     "text": [
      "quality                 1.000000\n",
      "alcohol                 0.439615\n",
      "citric acid             0.079157\n",
      "free sulfur dioxide     0.055574\n",
      "sulphates               0.042068\n",
      "pH                      0.017931\n",
      "index                  -0.008045\n",
      "residual sugar         -0.032848\n",
      "total sulfur dioxide   -0.039732\n",
      "fixed acidity          -0.076506\n",
      "type                   -0.118280\n",
      "chlorides              -0.198148\n",
      "volatile acidity       -0.261557\n",
      "density                -0.299831\n",
      "dtype: float64\n"
     ]
    }
   ],
   "source": [
    "# 허리둘레와 각 변수들 간의 상관관계를 그려보겠습니다.\n",
    "co = train.corrwith(train['quality'])\n",
    "\n",
    "# 상관계수를 내림차순으로 정리해서 출력해보죠\n",
    "print(co.sort_values(ascending=False))\n",
    "\n",
    "# 절대값으로 취합니다.\n",
    "co_abs = abs(co)"
   ]
  },
  {
   "cell_type": "code",
   "execution_count": 17,
   "id": "0e702772",
   "metadata": {
    "ExecuteTime": {
     "end_time": "2021-10-04T22:58:32.536507Z",
     "start_time": "2021-10-04T22:58:32.514625Z"
    }
   },
   "outputs": [
    {
     "data": {
      "text/plain": [
       "Index(['quality', 'alcohol', 'density', 'volatile acidity', 'chlorides',\n",
       "       'type', 'citric acid', 'fixed acidity', 'free sulfur dioxide',\n",
       "       'sulphates', 'total sulfur dioxide', 'residual sugar', 'pH'],\n",
       "      dtype='object')"
      ]
     },
     "execution_count": 17,
     "metadata": {},
     "output_type": "execute_result"
    }
   ],
   "source": [
    "# 상관계수의 절대값을 내림차순으로 정리합니다.\n",
    "co_sort = co_abs.sort_values(ascending=False)\n",
    "co_sort = co_sort[co_sort>0.01]\n",
    "co_sort.to_frame().index\n",
    "\n",
    "# 상관관계가 낮은 변수를 제거하고 새로운 변수를 구성합니다.\n",
    "new_features = co_sort.to_frame().index\n",
    "new_features"
   ]
  },
  {
   "cell_type": "code",
   "execution_count": 18,
   "id": "802fc219",
   "metadata": {
    "ExecuteTime": {
     "end_time": "2021-10-04T22:58:33.269551Z",
     "start_time": "2021-10-04T22:58:33.246896Z"
    }
   },
   "outputs": [
    {
     "name": "stdout",
     "output_type": "stream",
     "text": [
      "13\n",
      "13\n",
      "제거된 변수의 갯수 :0개\n"
     ]
    }
   ],
   "source": [
    "print(len(features))\n",
    "print(len(new_features))\n",
    "\n",
    "print('제거된 변수의 갯수 :{}개'.format(len(features) - len(new_features)))"
   ]
  },
  {
   "cell_type": "markdown",
   "id": "909c0a50",
   "metadata": {},
   "source": [
    "상관계수가 0.1보다 낮은 변수인 서울_인허가 물량 이 제거 되었습니다. <br>\n",
    "* 이 부분은 사용하지 않고 기존 features로 계속 진행하겠습니다."
   ]
  },
  {
   "cell_type": "markdown",
   "id": "879d8c3c",
   "metadata": {},
   "source": [
    "### Data Set 정리\n",
    "지금까지 정리한 이상치와 변수선택을 고려하여 dataset을 정리합니다."
   ]
  },
  {
   "cell_type": "code",
   "execution_count": 19,
   "id": "de4bcbdd",
   "metadata": {
    "ExecuteTime": {
     "end_time": "2021-10-04T23:03:33.831136Z",
     "start_time": "2021-10-04T23:03:33.817339Z"
    }
   },
   "outputs": [],
   "source": [
    "# # 데이터 불러오기\n",
    "features = ['alcohol', 'density', 'volatile acidity', 'chlorides',\n",
    "       'type', 'citric acid', 'fixed acidity', 'free sulfur dioxide',\n",
    "       'sulphates', 'total sulfur dioxide', 'residual sugar', 'pH']\n",
    "\n",
    "target = 'quality'\n",
    "\n",
    "X = train[features]\n",
    "y = train[target]"
   ]
  },
  {
   "cell_type": "code",
   "execution_count": 20,
   "id": "45b57b4e",
   "metadata": {
    "ExecuteTime": {
     "end_time": "2021-10-04T23:03:34.491154Z",
     "start_time": "2021-10-04T23:03:34.395315Z"
    },
    "scrolled": true
   },
   "outputs": [
    {
     "data": {
      "text/html": [
       "<div>\n",
       "<style scoped>\n",
       "    .dataframe tbody tr th:only-of-type {\n",
       "        vertical-align: middle;\n",
       "    }\n",
       "\n",
       "    .dataframe tbody tr th {\n",
       "        vertical-align: top;\n",
       "    }\n",
       "\n",
       "    .dataframe thead th {\n",
       "        text-align: right;\n",
       "    }\n",
       "</style>\n",
       "<table border=\"1\" class=\"dataframe\">\n",
       "  <thead>\n",
       "    <tr style=\"text-align: right;\">\n",
       "      <th></th>\n",
       "      <th>alcohol</th>\n",
       "      <th>density</th>\n",
       "      <th>volatile acidity</th>\n",
       "      <th>chlorides</th>\n",
       "      <th>type</th>\n",
       "      <th>citric acid</th>\n",
       "      <th>fixed acidity</th>\n",
       "      <th>free sulfur dioxide</th>\n",
       "      <th>sulphates</th>\n",
       "      <th>total sulfur dioxide</th>\n",
       "      <th>residual sugar</th>\n",
       "      <th>pH</th>\n",
       "    </tr>\n",
       "  </thead>\n",
       "  <tbody>\n",
       "    <tr>\n",
       "      <th>0</th>\n",
       "      <td>10.2</td>\n",
       "      <td>0.99432</td>\n",
       "      <td>0.695</td>\n",
       "      <td>0.042</td>\n",
       "      <td>0</td>\n",
       "      <td>0.06</td>\n",
       "      <td>5.6</td>\n",
       "      <td>9.0</td>\n",
       "      <td>0.44</td>\n",
       "      <td>84.0</td>\n",
       "      <td>6.8</td>\n",
       "      <td>3.44</td>\n",
       "    </tr>\n",
       "    <tr>\n",
       "      <th>1</th>\n",
       "      <td>9.5</td>\n",
       "      <td>0.99690</td>\n",
       "      <td>0.610</td>\n",
       "      <td>0.067</td>\n",
       "      <td>1</td>\n",
       "      <td>0.14</td>\n",
       "      <td>8.8</td>\n",
       "      <td>10.0</td>\n",
       "      <td>0.59</td>\n",
       "      <td>42.0</td>\n",
       "      <td>2.4</td>\n",
       "      <td>3.19</td>\n",
       "    </tr>\n",
       "    <tr>\n",
       "      <th>2</th>\n",
       "      <td>10.9</td>\n",
       "      <td>0.99176</td>\n",
       "      <td>0.210</td>\n",
       "      <td>0.057</td>\n",
       "      <td>0</td>\n",
       "      <td>0.39</td>\n",
       "      <td>7.9</td>\n",
       "      <td>21.0</td>\n",
       "      <td>0.52</td>\n",
       "      <td>138.0</td>\n",
       "      <td>2.0</td>\n",
       "      <td>3.05</td>\n",
       "    </tr>\n",
       "    <tr>\n",
       "      <th>3</th>\n",
       "      <td>10.8</td>\n",
       "      <td>0.99390</td>\n",
       "      <td>0.210</td>\n",
       "      <td>0.046</td>\n",
       "      <td>0</td>\n",
       "      <td>0.31</td>\n",
       "      <td>7.0</td>\n",
       "      <td>29.0</td>\n",
       "      <td>0.50</td>\n",
       "      <td>108.0</td>\n",
       "      <td>6.0</td>\n",
       "      <td>3.26</td>\n",
       "    </tr>\n",
       "    <tr>\n",
       "      <th>4</th>\n",
       "      <td>10.9</td>\n",
       "      <td>0.99550</td>\n",
       "      <td>0.400</td>\n",
       "      <td>0.059</td>\n",
       "      <td>0</td>\n",
       "      <td>0.26</td>\n",
       "      <td>7.8</td>\n",
       "      <td>32.0</td>\n",
       "      <td>0.43</td>\n",
       "      <td>178.0</td>\n",
       "      <td>9.5</td>\n",
       "      <td>3.04</td>\n",
       "    </tr>\n",
       "    <tr>\n",
       "      <th>...</th>\n",
       "      <td>...</td>\n",
       "      <td>...</td>\n",
       "      <td>...</td>\n",
       "      <td>...</td>\n",
       "      <td>...</td>\n",
       "      <td>...</td>\n",
       "      <td>...</td>\n",
       "      <td>...</td>\n",
       "      <td>...</td>\n",
       "      <td>...</td>\n",
       "      <td>...</td>\n",
       "      <td>...</td>\n",
       "    </tr>\n",
       "    <tr>\n",
       "      <th>5492</th>\n",
       "      <td>10.1</td>\n",
       "      <td>0.99320</td>\n",
       "      <td>0.150</td>\n",
       "      <td>0.029</td>\n",
       "      <td>0</td>\n",
       "      <td>0.29</td>\n",
       "      <td>7.7</td>\n",
       "      <td>10.0</td>\n",
       "      <td>0.39</td>\n",
       "      <td>64.0</td>\n",
       "      <td>1.3</td>\n",
       "      <td>3.35</td>\n",
       "    </tr>\n",
       "    <tr>\n",
       "      <th>5493</th>\n",
       "      <td>11.0</td>\n",
       "      <td>0.99074</td>\n",
       "      <td>0.180</td>\n",
       "      <td>0.034</td>\n",
       "      <td>0</td>\n",
       "      <td>0.36</td>\n",
       "      <td>6.3</td>\n",
       "      <td>26.0</td>\n",
       "      <td>0.51</td>\n",
       "      <td>111.0</td>\n",
       "      <td>1.2</td>\n",
       "      <td>3.16</td>\n",
       "    </tr>\n",
       "    <tr>\n",
       "      <th>5494</th>\n",
       "      <td>11.3</td>\n",
       "      <td>0.99096</td>\n",
       "      <td>0.150</td>\n",
       "      <td>0.035</td>\n",
       "      <td>0</td>\n",
       "      <td>0.34</td>\n",
       "      <td>7.8</td>\n",
       "      <td>31.0</td>\n",
       "      <td>0.72</td>\n",
       "      <td>93.0</td>\n",
       "      <td>1.1</td>\n",
       "      <td>3.07</td>\n",
       "    </tr>\n",
       "    <tr>\n",
       "      <th>5495</th>\n",
       "      <td>10.5</td>\n",
       "      <td>0.99195</td>\n",
       "      <td>0.410</td>\n",
       "      <td>0.042</td>\n",
       "      <td>0</td>\n",
       "      <td>0.31</td>\n",
       "      <td>6.6</td>\n",
       "      <td>18.0</td>\n",
       "      <td>0.41</td>\n",
       "      <td>101.0</td>\n",
       "      <td>1.6</td>\n",
       "      <td>3.13</td>\n",
       "    </tr>\n",
       "    <tr>\n",
       "      <th>5496</th>\n",
       "      <td>9.7</td>\n",
       "      <td>0.99297</td>\n",
       "      <td>0.350</td>\n",
       "      <td>0.049</td>\n",
       "      <td>0</td>\n",
       "      <td>0.17</td>\n",
       "      <td>7.0</td>\n",
       "      <td>7.0</td>\n",
       "      <td>0.36</td>\n",
       "      <td>119.0</td>\n",
       "      <td>1.1</td>\n",
       "      <td>3.13</td>\n",
       "    </tr>\n",
       "  </tbody>\n",
       "</table>\n",
       "<p>5497 rows × 12 columns</p>\n",
       "</div>"
      ],
      "text/plain": [
       "      alcohol  density  volatile acidity  chlorides  type  citric acid  \\\n",
       "0        10.2  0.99432             0.695      0.042     0         0.06   \n",
       "1         9.5  0.99690             0.610      0.067     1         0.14   \n",
       "2        10.9  0.99176             0.210      0.057     0         0.39   \n",
       "3        10.8  0.99390             0.210      0.046     0         0.31   \n",
       "4        10.9  0.99550             0.400      0.059     0         0.26   \n",
       "...       ...      ...               ...        ...   ...          ...   \n",
       "5492     10.1  0.99320             0.150      0.029     0         0.29   \n",
       "5493     11.0  0.99074             0.180      0.034     0         0.36   \n",
       "5494     11.3  0.99096             0.150      0.035     0         0.34   \n",
       "5495     10.5  0.99195             0.410      0.042     0         0.31   \n",
       "5496      9.7  0.99297             0.350      0.049     0         0.17   \n",
       "\n",
       "      fixed acidity  free sulfur dioxide  sulphates  total sulfur dioxide  \\\n",
       "0               5.6                  9.0       0.44                  84.0   \n",
       "1               8.8                 10.0       0.59                  42.0   \n",
       "2               7.9                 21.0       0.52                 138.0   \n",
       "3               7.0                 29.0       0.50                 108.0   \n",
       "4               7.8                 32.0       0.43                 178.0   \n",
       "...             ...                  ...        ...                   ...   \n",
       "5492            7.7                 10.0       0.39                  64.0   \n",
       "5493            6.3                 26.0       0.51                 111.0   \n",
       "5494            7.8                 31.0       0.72                  93.0   \n",
       "5495            6.6                 18.0       0.41                 101.0   \n",
       "5496            7.0                  7.0       0.36                 119.0   \n",
       "\n",
       "      residual sugar    pH  \n",
       "0                6.8  3.44  \n",
       "1                2.4  3.19  \n",
       "2                2.0  3.05  \n",
       "3                6.0  3.26  \n",
       "4                9.5  3.04  \n",
       "...              ...   ...  \n",
       "5492             1.3  3.35  \n",
       "5493             1.2  3.16  \n",
       "5494             1.1  3.07  \n",
       "5495             1.6  3.13  \n",
       "5496             1.1  3.13  \n",
       "\n",
       "[5497 rows x 12 columns]"
      ]
     },
     "execution_count": 20,
     "metadata": {},
     "output_type": "execute_result"
    }
   ],
   "source": [
    "X"
   ]
  },
  {
   "cell_type": "markdown",
   "id": "96070142",
   "metadata": {},
   "source": [
    "# 5. 데이터 정규화(Data normalization)"
   ]
  },
  {
   "cell_type": "markdown",
   "id": "cff2a9cf",
   "metadata": {},
   "source": [
    "- MinMax: 상한과 하한이 비교적 명확하고, 상한과 하한 사이에 값들이 어느정도 일정하게 분포하는 경우에 사용 \n",
    "- Standardization: 데이터가 정규 분포를 따를 때 사용하면 효과적\n",
    "- y변수는 normalization을 하는 것이 일반적임, 왜냐하면 normalization은 특정 x 변수가 y 예측에 큰 영향을 끼치는 것을 방지하거나, gradient descent를 이용하는 학습을 좀 더 빠르게 하기 위해서이기 때문\n",
    "\n",
    "__어떤 scaling을 할 것인지도 결국에는 잘 선택해야 할 문제... 실험해봤을 때 어떤 모델을 사용하느냐에 따라, 어떤 상황이냐에 따라서 성능이 다 달라짐__ <br>\n",
    "참고: scaling 관련하여 여러 실험을 수행해서 정리해 놓은 좋은 소스 <br>\n",
    "- 원문: https://towardsdatascience.com/normalization-vs-standardization-quantitative-analysis-a91e8a79cebf#:~:text=Normalization%20typically%20means%20rescales%20the,of%201%20(unit%20variance).\n",
    "- 한글 번역문: https://databreak.netlify.app/2019-05-02-Normalization_vs_Standardization-Quantitative%20analysis/\n",
    "\n",
    "## How?\n",
    "- train / test(valid) split 먼저 수행\n",
    "- train에 대해서 scaling 방법 학습\n",
    "- scaling한 train 데이터를 이용하여 모델 학습\n",
    "- train 데이터로 학습한 scaling 방법을 이용하여 test(valid) 데이터 scaling\n",
    "- scaling한 test(valid) 데이터를 이용하여 모델 학습"
   ]
  },
  {
   "cell_type": "code",
   "execution_count": 18,
   "id": "81888d28",
   "metadata": {
    "ExecuteTime": {
     "end_time": "2021-09-07T04:37:29.672589Z",
     "start_time": "2021-09-07T04:37:29.662623Z"
    }
   },
   "outputs": [],
   "source": [
    "# 우리는 Min-Max Scaler를 사용해보겠습니다."
   ]
  },
  {
   "cell_type": "code",
   "execution_count": 21,
   "id": "2cfcb4d1",
   "metadata": {
    "ExecuteTime": {
     "end_time": "2021-10-04T23:03:51.254566Z",
     "start_time": "2021-10-04T23:03:48.086630Z"
    }
   },
   "outputs": [],
   "source": [
    "from sklearn import metrics\n",
    "from sklearn import preprocessing\n",
    "from sklearn.model_selection import train_test_split                                                     \n",
    "\n",
    "train_X, valid_X, train_y, valid_y = train_test_split(X, y, test_size=0.1, random_state=1)\n",
    "\n",
    "# 피처 스케일링\n",
    "scaler = preprocessing.MinMaxScaler()\n",
    "\n",
    "train_X_norm = scaler.fit_transform(train_X)\n",
    "valid_X_norm = scaler.fit_transform(valid_X)"
   ]
  },
  {
   "cell_type": "markdown",
   "id": "f6328912",
   "metadata": {},
   "source": [
    "# 6. 모델생성 및 학습"
   ]
  },
  {
   "cell_type": "markdown",
   "id": "84724e7e",
   "metadata": {},
   "source": [
    "## 6.0 모델 선택 Model Selection(Carrot package)"
   ]
  },
  {
   "cell_type": "markdown",
   "id": "aff17225",
   "metadata": {},
   "source": [
    "### 6.0.1 Manual 방법"
   ]
  },
  {
   "cell_type": "code",
   "execution_count": 40,
   "id": "df9269cc",
   "metadata": {
    "ExecuteTime": {
     "end_time": "2021-10-04T23:51:46.078752Z",
     "start_time": "2021-10-04T23:51:46.071271Z"
    }
   },
   "outputs": [],
   "source": [
    "# !pip install catboost"
   ]
  },
  {
   "cell_type": "code",
   "execution_count": 37,
   "id": "d6c2829b",
   "metadata": {
    "ExecuteTime": {
     "end_time": "2021-10-04T23:33:45.781233Z",
     "start_time": "2021-10-04T23:33:45.757072Z"
    }
   },
   "outputs": [],
   "source": [
    "target = train['quality']\n",
    "train.drop(['index', 'quality'], axis=1, inplace=True)\n",
    "test.drop('index', axis=1, inplace=True)"
   ]
  },
  {
   "cell_type": "code",
   "execution_count": 39,
   "id": "623d456c",
   "metadata": {
    "ExecuteTime": {
     "end_time": "2021-10-04T23:51:36.498667Z",
     "start_time": "2021-10-04T23:49:35.839160Z"
    }
   },
   "outputs": [
    {
     "name": "stdout",
     "output_type": "stream",
     "text": [
      "[08:50:48] WARNING: C:/Users/Administrator/workspace/xgboost-win64_release_1.4.0/src/learner.cc:1095: Starting in XGBoost 1.3.0, the default evaluation metric used with the objective 'multi:softprob' was changed from 'merror' to 'mlogloss'. Explicitly set eval_metric if you'd like to restore the old behavior.\n",
      "[08:50:49] WARNING: C:/Users/Administrator/workspace/xgboost-win64_release_1.4.0/src/learner.cc:1095: Starting in XGBoost 1.3.0, the default evaluation metric used with the objective 'multi:softprob' was changed from 'merror' to 'mlogloss'. Explicitly set eval_metric if you'd like to restore the old behavior.\n",
      "[08:50:50] WARNING: C:/Users/Administrator/workspace/xgboost-win64_release_1.4.0/src/learner.cc:1095: Starting in XGBoost 1.3.0, the default evaluation metric used with the objective 'multi:softprob' was changed from 'merror' to 'mlogloss'. Explicitly set eval_metric if you'd like to restore the old behavior.\n",
      "[08:50:51] WARNING: C:/Users/Administrator/workspace/xgboost-win64_release_1.4.0/src/learner.cc:1095: Starting in XGBoost 1.3.0, the default evaluation metric used with the objective 'multi:softprob' was changed from 'merror' to 'mlogloss'. Explicitly set eval_metric if you'd like to restore the old behavior.\n",
      "[08:50:53] WARNING: C:/Users/Administrator/workspace/xgboost-win64_release_1.4.0/src/learner.cc:1095: Starting in XGBoost 1.3.0, the default evaluation metric used with the objective 'multi:softprob' was changed from 'merror' to 'mlogloss'. Explicitly set eval_metric if you'd like to restore the old behavior.\n"
     ]
    },
    {
     "data": {
      "text/html": [
       "<div>\n",
       "<style scoped>\n",
       "    .dataframe tbody tr th:only-of-type {\n",
       "        vertical-align: middle;\n",
       "    }\n",
       "\n",
       "    .dataframe tbody tr th {\n",
       "        vertical-align: top;\n",
       "    }\n",
       "\n",
       "    .dataframe thead th {\n",
       "        text-align: right;\n",
       "    }\n",
       "</style>\n",
       "<table border=\"1\" class=\"dataframe\">\n",
       "  <thead>\n",
       "    <tr style=\"text-align: right;\">\n",
       "      <th></th>\n",
       "      <th>model</th>\n",
       "      <th>score</th>\n",
       "    </tr>\n",
       "  </thead>\n",
       "  <tbody>\n",
       "    <tr>\n",
       "      <th>6</th>\n",
       "      <td>RandomForestClassifier(random_state=2021)</td>\n",
       "      <td>0.675637</td>\n",
       "    </tr>\n",
       "    <tr>\n",
       "      <th>10</th>\n",
       "      <td>LGBMClassifier()</td>\n",
       "      <td>0.651989</td>\n",
       "    </tr>\n",
       "    <tr>\n",
       "      <th>11</th>\n",
       "      <td>&lt;catboost.core.CatBoostClassifier object at 0x...</td>\n",
       "      <td>0.650169</td>\n",
       "    </tr>\n",
       "    <tr>\n",
       "      <th>9</th>\n",
       "      <td>XGBClassifier(base_score=None, booster=None, c...</td>\n",
       "      <td>0.649077</td>\n",
       "    </tr>\n",
       "    <tr>\n",
       "      <th>7</th>\n",
       "      <td>GradientBoostingClassifier()</td>\n",
       "      <td>0.584681</td>\n",
       "    </tr>\n",
       "    <tr>\n",
       "      <th>4</th>\n",
       "      <td>SVC(C=100, gamma=0.01, probability=True)</td>\n",
       "      <td>0.562843</td>\n",
       "    </tr>\n",
       "    <tr>\n",
       "      <th>0</th>\n",
       "      <td>RidgeClassifier()</td>\n",
       "      <td>0.532833</td>\n",
       "    </tr>\n",
       "    <tr>\n",
       "      <th>5</th>\n",
       "      <td>DecisionTreeClassifier(max_depth=6, max_featur...</td>\n",
       "      <td>0.532288</td>\n",
       "    </tr>\n",
       "    <tr>\n",
       "      <th>1</th>\n",
       "      <td>LogisticRegression()</td>\n",
       "      <td>0.470622</td>\n",
       "    </tr>\n",
       "    <tr>\n",
       "      <th>3</th>\n",
       "      <td>KNeighborsClassifier(n_neighbors=20)</td>\n",
       "      <td>0.450787</td>\n",
       "    </tr>\n",
       "    <tr>\n",
       "      <th>2</th>\n",
       "      <td>GaussianNB()</td>\n",
       "      <td>0.403679</td>\n",
       "    </tr>\n",
       "    <tr>\n",
       "      <th>8</th>\n",
       "      <td>AdaBoostClassifier()</td>\n",
       "      <td>0.402040</td>\n",
       "    </tr>\n",
       "  </tbody>\n",
       "</table>\n",
       "</div>"
      ],
      "text/plain": [
       "                                                model     score\n",
       "6           RandomForestClassifier(random_state=2021)  0.675637\n",
       "10                                   LGBMClassifier()  0.651989\n",
       "11  <catboost.core.CatBoostClassifier object at 0x...  0.650169\n",
       "9   XGBClassifier(base_score=None, booster=None, c...  0.649077\n",
       "7                        GradientBoostingClassifier()  0.584681\n",
       "4            SVC(C=100, gamma=0.01, probability=True)  0.562843\n",
       "0                                   RidgeClassifier()  0.532833\n",
       "5   DecisionTreeClassifier(max_depth=6, max_featur...  0.532288\n",
       "1                                LogisticRegression()  0.470622\n",
       "3                KNeighborsClassifier(n_neighbors=20)  0.450787\n",
       "2                                        GaussianNB()  0.403679\n",
       "8                                AdaBoostClassifier()  0.402040"
      ]
     },
     "execution_count": 39,
     "metadata": {},
     "output_type": "execute_result"
    }
   ],
   "source": [
    "from sklearn.linear_model import RidgeClassifier, LogisticRegression  \n",
    "from sklearn.ensemble import RandomForestClassifier, GradientBoostingClassifier, AdaBoostClassifier\n",
    "from sklearn.svm import SVC, LinearSVC\n",
    "from sklearn.neighbors import KNeighborsClassifier\n",
    "from sklearn.naive_bayes import GaussianNB\n",
    "from sklearn.tree import DecisionTreeClassifier\n",
    "from xgboost import XGBClassifier\n",
    "from lightgbm import LGBMClassifier\n",
    "from catboost import CatBoostClassifier\n",
    "from sklearn.model_selection import cross_val_score, KFold\n",
    "from sklearn.metrics import accuracy_score\n",
    "\n",
    "\n",
    "\n",
    "model_list = [RidgeClassifier(), LogisticRegression(), GaussianNB(), KNeighborsClassifier(n_neighbors=20), SVC(gamma = 0.01, C = 100, probability=True), \n",
    "              DecisionTreeClassifier(max_features=7 , max_depth=6,  min_samples_split=8), \n",
    "              RandomForestClassifier(random_state=2021), GradientBoostingClassifier(), AdaBoostClassifier(), XGBClassifier(), LGBMClassifier(), CatBoostClassifier(verbose=0)]\n",
    "scores = []\n",
    "\n",
    "for model in model_list:\n",
    "    score = cross_val_score(model, train, target, cv=5, scoring='accuracy')\n",
    "    scores.append(score.mean())\n",
    "\n",
    "\n",
    "model_test = pd.DataFrame({'model':model_list, 'score':scores})\n",
    "model_test.sort_values('score', ascending=False)"
   ]
  },
  {
   "cell_type": "markdown",
   "id": "b67c8d77",
   "metadata": {},
   "source": [
    "### 6.0.2 Pycaret"
   ]
  },
  {
   "cell_type": "code",
   "execution_count": 42,
   "id": "9ab830e3",
   "metadata": {
    "ExecuteTime": {
     "end_time": "2021-10-04T23:59:35.892591Z",
     "start_time": "2021-10-04T23:58:51.315909Z"
    }
   },
   "outputs": [
    {
     "name": "stdout",
     "output_type": "stream",
     "text": [
      "Collecting pycaret\n",
      "  Using cached pycaret-2.3.4-py3-none-any.whl (266 kB)\n",
      "Collecting Boruta\n",
      "  Using cached Boruta-0.3-py3-none-any.whl (56 kB)\n",
      "Requirement already satisfied: lightgbm>=2.3.1 in c:\\users\\146058\\anaconda3\\lib\\site-packages (from pycaret) (3.2.1)\n",
      "Requirement already satisfied: IPython in c:\\users\\146058\\anaconda3\\lib\\site-packages (from pycaret) (7.22.0)\n",
      "Collecting scipy<=1.5.4\n",
      "  Using cached scipy-1.5.4-cp38-cp38-win_amd64.whl (31.4 MB)\n",
      "Requirement already satisfied: numba<0.54 in c:\\users\\146058\\anaconda3\\lib\\site-packages (from pycaret) (0.53.1)\n",
      "Collecting wordcloud\n",
      "  Using cached wordcloud-1.8.1-cp38-cp38-win_amd64.whl (155 kB)\n",
      "Requirement already satisfied: numpy==1.19.5 in c:\\users\\146058\\anaconda3\\lib\\site-packages (from pycaret) (1.19.5)\n",
      "Requirement already satisfied: joblib in c:\\users\\146058\\anaconda3\\lib\\site-packages (from pycaret) (1.0.1)\n",
      "Requirement already satisfied: plotly>=4.4.1 in c:\\users\\146058\\anaconda3\\lib\\site-packages (from pycaret) (5.3.1)\n",
      "Collecting mlflow\n",
      "  Using cached mlflow-1.20.2-py3-none-any.whl (14.6 MB)\n",
      "Requirement already satisfied: seaborn in c:\\users\\146058\\anaconda3\\lib\\site-packages (from pycaret) (0.11.1)\n",
      "Collecting scikit-learn==0.23.2\n",
      "  Using cached scikit_learn-0.23.2-cp38-cp38-win_amd64.whl (6.8 MB)\n",
      "Collecting gensim<4.0.0\n",
      "  Using cached gensim-3.8.3-cp38-cp38-win_amd64.whl (24.2 MB)\n",
      "Requirement already satisfied: pandas in c:\\users\\146058\\anaconda3\\lib\\site-packages (from pycaret) (1.2.4)\n",
      "Collecting kmodes>=0.10.1\n",
      "  Using cached kmodes-0.11.0-py2.py3-none-any.whl (18 kB)\n",
      "Collecting pyod\n",
      "  Using cached pyod-0.9.4-py3-none-any.whl\n",
      "Collecting textblob\n",
      "  Using cached textblob-0.15.3-py2.py3-none-any.whl (636 kB)\n",
      "Requirement already satisfied: matplotlib in c:\\users\\146058\\anaconda3\\lib\\site-packages (from pycaret) (3.3.4)\n",
      "Requirement already satisfied: nltk in c:\\users\\146058\\anaconda3\\lib\\site-packages (from pycaret) (3.6.1)\n",
      "Collecting umap-learn\n",
      "  Using cached umap_learn-0.5.1-py3-none-any.whl\n",
      "Requirement already satisfied: ipywidgets in c:\\users\\146058\\anaconda3\\lib\\site-packages (from pycaret) (7.6.3)\n",
      "Collecting pyLDAvis\n",
      "  Using cached pyLDAvis-3.3.1.tar.gz (1.7 MB)\n",
      "  Installing build dependencies: started\n",
      "  Installing build dependencies: finished with status 'done'\n",
      "  Getting requirements to build wheel: started\n",
      "  Getting requirements to build wheel: finished with status 'done'\n",
      "  Installing backend dependencies: started\n",
      "  Installing backend dependencies: finished with status 'done'\n",
      "    Preparing wheel metadata: started\n",
      "    Preparing wheel metadata: finished with status 'done'\n",
      "Collecting spacy<2.4.0\n",
      "  Using cached spacy-2.3.7-cp38-cp38-win_amd64.whl (9.7 MB)\n",
      "Collecting cufflinks>=0.17.0\n",
      "  Using cached cufflinks-0.17.3-py3-none-any.whl\n",
      "Collecting imbalanced-learn==0.7.0\n",
      "  Using cached imbalanced_learn-0.7.0-py3-none-any.whl (167 kB)\n",
      "Collecting yellowbrick>=1.0.1\n",
      "  Using cached yellowbrick-1.3.post1-py3-none-any.whl (271 kB)\n",
      "Collecting mlxtend>=0.17.0\n",
      "  Using cached mlxtend-0.19.0-py2.py3-none-any.whl (1.3 MB)\n",
      "Collecting pandas-profiling>=2.8.0\n",
      "  Using cached pandas_profiling-3.1.0-py2.py3-none-any.whl (261 kB)\n",
      "Collecting scikit-plot\n",
      "  Using cached scikit_plot-0.3.7-py3-none-any.whl (33 kB)\n",
      "Requirement already satisfied: threadpoolctl>=2.0.0 in c:\\users\\146058\\anaconda3\\lib\\site-packages (from scikit-learn==0.23.2->pycaret) (2.1.0)\n",
      "Requirement already satisfied: six>=1.9.0 in c:\\users\\146058\\anaconda3\\lib\\site-packages (from cufflinks>=0.17.0->pycaret) (1.15.0)\n",
      "Collecting colorlover>=0.2.1\n",
      "  Using cached colorlover-0.3.0-py3-none-any.whl (8.9 kB)\n",
      "Requirement already satisfied: setuptools>=34.4.1 in c:\\users\\146058\\anaconda3\\lib\\site-packages (from cufflinks>=0.17.0->pycaret) (52.0.0.post20210125)\n",
      "Collecting Cython==0.29.14\n",
      "  Using cached Cython-0.29.14-cp38-cp38-win_amd64.whl (1.7 MB)\n",
      "Collecting smart-open>=1.8.1\n",
      "  Using cached smart_open-5.2.1-py3-none-any.whl (58 kB)\n",
      "Requirement already satisfied: pygments in c:\\users\\146058\\anaconda3\\lib\\site-packages (from IPython->pycaret) (2.8.1)\n",
      "Requirement already satisfied: colorama in c:\\users\\146058\\anaconda3\\lib\\site-packages (from IPython->pycaret) (0.4.4)\n",
      "Requirement already satisfied: backcall in c:\\users\\146058\\anaconda3\\lib\\site-packages (from IPython->pycaret) (0.2.0)\n",
      "Requirement already satisfied: traitlets>=4.2 in c:\\users\\146058\\anaconda3\\lib\\site-packages (from IPython->pycaret) (5.0.5)\n",
      "Requirement already satisfied: decorator in c:\\users\\146058\\anaconda3\\lib\\site-packages (from IPython->pycaret) (5.0.6)\n",
      "Requirement already satisfied: prompt-toolkit!=3.0.0,!=3.0.1,<3.1.0,>=2.0.0 in c:\\users\\146058\\anaconda3\\lib\\site-packages (from IPython->pycaret) (3.0.17)\n",
      "Requirement already satisfied: pickleshare in c:\\users\\146058\\anaconda3\\lib\\site-packages (from IPython->pycaret) (0.7.5)\n",
      "Requirement already satisfied: jedi>=0.16 in c:\\users\\146058\\anaconda3\\lib\\site-packages (from IPython->pycaret) (0.17.2)\n",
      "Requirement already satisfied: jupyterlab-widgets>=1.0.0 in c:\\users\\146058\\anaconda3\\lib\\site-packages (from ipywidgets->pycaret) (1.0.0)\n",
      "Requirement already satisfied: widgetsnbextension~=3.5.0 in c:\\users\\146058\\anaconda3\\lib\\site-packages (from ipywidgets->pycaret) (3.5.1)\n",
      "Requirement already satisfied: nbformat>=4.2.0 in c:\\users\\146058\\anaconda3\\lib\\site-packages (from ipywidgets->pycaret) (5.1.3)\n",
      "Requirement already satisfied: ipykernel>=4.5.1 in c:\\users\\146058\\anaconda3\\lib\\site-packages (from ipywidgets->pycaret) (5.3.4)\n",
      "Requirement already satisfied: jupyter-client in c:\\users\\146058\\anaconda3\\lib\\site-packages (from ipykernel>=4.5.1->ipywidgets->pycaret) (6.1.12)\n",
      "Requirement already satisfied: tornado>=4.2 in c:\\users\\146058\\anaconda3\\lib\\site-packages (from ipykernel>=4.5.1->ipywidgets->pycaret) (6.1)\n",
      "Requirement already satisfied: parso<0.8.0,>=0.7.0 in c:\\users\\146058\\anaconda3\\lib\\site-packages (from jedi>=0.16->IPython->pycaret) (0.7.0)\n",
      "Requirement already satisfied: wheel in c:\\users\\146058\\anaconda3\\lib\\site-packages (from lightgbm>=2.3.1->pycaret) (0.36.2)\n",
      "Requirement already satisfied: cycler>=0.10 in c:\\users\\146058\\anaconda3\\lib\\site-packages (from matplotlib->pycaret) (0.10.0)\n",
      "Requirement already satisfied: python-dateutil>=2.1 in c:\\users\\146058\\anaconda3\\lib\\site-packages (from matplotlib->pycaret) (2.8.1)\n",
      "Requirement already satisfied: pyparsing!=2.0.4,!=2.1.2,!=2.1.6,>=2.0.3 in c:\\users\\146058\\anaconda3\\lib\\site-packages (from matplotlib->pycaret) (2.4.7)\n",
      "Requirement already satisfied: kiwisolver>=1.0.1 in c:\\users\\146058\\anaconda3\\lib\\site-packages (from matplotlib->pycaret) (1.3.1)\n",
      "Requirement already satisfied: pillow>=6.2.0 in c:\\users\\146058\\anaconda3\\lib\\site-packages (from matplotlib->pycaret) (8.2.0)\n",
      "Requirement already satisfied: ipython-genutils in c:\\users\\146058\\anaconda3\\lib\\site-packages (from nbformat>=4.2.0->ipywidgets->pycaret) (0.2.0)\n",
      "Requirement already satisfied: jupyter-core in c:\\users\\146058\\anaconda3\\lib\\site-packages (from nbformat>=4.2.0->ipywidgets->pycaret) (4.7.1)\n",
      "Requirement already satisfied: jsonschema!=2.5.0,>=2.4 in c:\\users\\146058\\anaconda3\\lib\\site-packages (from nbformat>=4.2.0->ipywidgets->pycaret) (4.0.0)\n",
      "Requirement already satisfied: attrs>=17.4.0 in c:\\users\\146058\\anaconda3\\lib\\site-packages (from jsonschema!=2.5.0,>=2.4->nbformat>=4.2.0->ipywidgets->pycaret) (20.3.0)\n",
      "Requirement already satisfied: pyrsistent!=0.17.0,!=0.17.1,!=0.17.2,>=0.14.0 in c:\\users\\146058\\anaconda3\\lib\\site-packages (from jsonschema!=2.5.0,>=2.4->nbformat>=4.2.0->ipywidgets->pycaret) (0.17.3)\n",
      "Requirement already satisfied: llvmlite<0.37,>=0.36.0rc1 in c:\\users\\146058\\anaconda3\\lib\\site-packages (from numba<0.54->pycaret) (0.36.0)\n",
      "Requirement already satisfied: pytz>=2017.3 in c:\\users\\146058\\anaconda3\\lib\\site-packages (from pandas->pycaret) (2021.1)\n",
      "Collecting phik>=0.11.1\n",
      "  Using cached phik-0.12.0-cp38-cp38-win_amd64.whl (659 kB)\n",
      "Collecting htmlmin>=0.1.12\n",
      "  Using cached htmlmin-0.1.12-py3-none-any.whl\n",
      "Requirement already satisfied: PyYAML>=5.0.0 in c:\\users\\146058\\anaconda3\\lib\\site-packages (from pandas-profiling>=2.8.0->pycaret) (5.4.1)\n",
      "Collecting visions[type_image_path]==0.7.4\n",
      "  Using cached visions-0.7.4-py3-none-any.whl (102 kB)\n",
      "Requirement already satisfied: markupsafe~=2.0.1 in c:\\users\\146058\\anaconda3\\lib\\site-packages (from pandas-profiling>=2.8.0->pycaret) (2.0.1)\n",
      "Collecting pydantic>=1.8.1\n",
      "  Using cached pydantic-1.8.2-cp38-cp38-win_amd64.whl (2.0 MB)\n",
      "Requirement already satisfied: missingno>=0.4.2 in c:\\users\\146058\\anaconda3\\lib\\site-packages (from pandas-profiling>=2.8.0->pycaret) (0.5.0)\n",
      "Requirement already satisfied: requests>=2.24.0 in c:\\users\\146058\\anaconda3\\lib\\site-packages (from pandas-profiling>=2.8.0->pycaret) (2.25.1)\n",
      "Requirement already satisfied: jinja2>=2.11.1 in c:\\users\\146058\\anaconda3\\lib\\site-packages (from pandas-profiling>=2.8.0->pycaret) (2.11.3)\n",
      "Collecting multimethod>=1.4\n",
      "  Using cached multimethod-1.6-py3-none-any.whl (9.4 kB)\n",
      "Requirement already satisfied: tqdm>=4.48.2 in c:\\users\\146058\\anaconda3\\lib\\site-packages (from pandas-profiling>=2.8.0->pycaret) (4.59.0)\n",
      "Collecting tangled-up-in-unicode==0.1.0\n",
      "  Using cached tangled_up_in_unicode-0.1.0-py3-none-any.whl (3.1 MB)\n",
      "Requirement already satisfied: networkx>=2.4 in c:\\users\\146058\\anaconda3\\lib\\site-packages (from visions[type_image_path]==0.7.4->pandas-profiling>=2.8.0->pycaret) (2.5)\n",
      "Collecting imagehash\n",
      "  Using cached ImageHash-4.2.1-py2.py3-none-any.whl\n",
      "Requirement already satisfied: tenacity>=6.2.0 in c:\\users\\146058\\anaconda3\\lib\\site-packages (from plotly>=4.4.1->pycaret) (8.0.1)\n",
      "Requirement already satisfied: wcwidth in c:\\users\\146058\\anaconda3\\lib\\site-packages (from prompt-toolkit!=3.0.0,!=3.0.1,<3.1.0,>=2.0.0->IPython->pycaret) (0.2.5)\n",
      "Requirement already satisfied: typing-extensions>=3.7.4.3 in c:\\users\\146058\\anaconda3\\lib\\site-packages (from pydantic>=1.8.1->pandas-profiling>=2.8.0->pycaret) (3.7.4.3)\n",
      "Requirement already satisfied: chardet<5,>=3.0.2 in c:\\users\\146058\\anaconda3\\lib\\site-packages (from requests>=2.24.0->pandas-profiling>=2.8.0->pycaret) (4.0.0)\n",
      "Requirement already satisfied: urllib3<1.27,>=1.21.1 in c:\\users\\146058\\anaconda3\\lib\\site-packages (from requests>=2.24.0->pandas-profiling>=2.8.0->pycaret) (1.26.4)\n",
      "Requirement already satisfied: idna<3,>=2.5 in c:\\users\\146058\\anaconda3\\lib\\site-packages (from requests>=2.24.0->pandas-profiling>=2.8.0->pycaret) (2.10)\n",
      "Requirement already satisfied: certifi>=2017.4.17 in c:\\users\\146058\\anaconda3\\lib\\site-packages (from requests>=2.24.0->pandas-profiling>=2.8.0->pycaret) (2020.12.5)\n",
      "Collecting cymem<2.1.0,>=2.0.2\n",
      "  Using cached cymem-2.0.5-cp38-cp38-win_amd64.whl (36 kB)\n",
      "Collecting preshed<3.1.0,>=3.0.2\n",
      "  Using cached preshed-3.0.5-cp38-cp38-win_amd64.whl (112 kB)\n",
      "Collecting thinc<7.5.0,>=7.4.1\n",
      "  Using cached thinc-7.4.5-cp38-cp38-win_amd64.whl (910 kB)\n",
      "Collecting wasabi<1.1.0,>=0.4.0\n",
      "  Using cached wasabi-0.8.2-py3-none-any.whl (23 kB)\n",
      "Collecting catalogue<1.1.0,>=0.0.7\n",
      "  Using cached catalogue-1.0.0-py2.py3-none-any.whl (7.7 kB)\n",
      "Collecting blis<0.8.0,>=0.4.0\n",
      "  Using cached blis-0.7.4-cp38-cp38-win_amd64.whl (6.5 MB)\n",
      "Collecting murmurhash<1.1.0,>=0.28.0\n",
      "  Using cached murmurhash-1.0.5-cp38-cp38-win_amd64.whl (21 kB)\n",
      "Collecting plac<1.2.0,>=0.9.6\n",
      "  Using cached plac-1.1.3-py2.py3-none-any.whl (20 kB)\n",
      "Collecting srsly<1.1.0,>=1.0.2\n",
      "  Using cached srsly-1.0.5-cp38-cp38-win_amd64.whl (178 kB)\n",
      "Requirement already satisfied: notebook>=4.4.1 in c:\\users\\146058\\anaconda3\\lib\\site-packages (from widgetsnbextension~=3.5.0->ipywidgets->pycaret) (6.3.0)\n",
      "Requirement already satisfied: nbconvert in c:\\users\\146058\\anaconda3\\lib\\site-packages (from notebook>=4.4.1->widgetsnbextension~=3.5.0->ipywidgets->pycaret) (6.0.7)\n",
      "Requirement already satisfied: argon2-cffi in c:\\users\\146058\\anaconda3\\lib\\site-packages (from notebook>=4.4.1->widgetsnbextension~=3.5.0->ipywidgets->pycaret) (20.1.0)\n",
      "Requirement already satisfied: pyzmq>=17 in c:\\users\\146058\\anaconda3\\lib\\site-packages (from notebook>=4.4.1->widgetsnbextension~=3.5.0->ipywidgets->pycaret) (20.0.0)\n",
      "Requirement already satisfied: terminado>=0.8.3 in c:\\users\\146058\\anaconda3\\lib\\site-packages (from notebook>=4.4.1->widgetsnbextension~=3.5.0->ipywidgets->pycaret) (0.9.4)\n",
      "Requirement already satisfied: prometheus-client in c:\\users\\146058\\anaconda3\\lib\\site-packages (from notebook>=4.4.1->widgetsnbextension~=3.5.0->ipywidgets->pycaret) (0.10.1)\n",
      "Requirement already satisfied: Send2Trash>=1.5.0 in c:\\users\\146058\\anaconda3\\lib\\site-packages (from notebook>=4.4.1->widgetsnbextension~=3.5.0->ipywidgets->pycaret) (1.5.0)\n",
      "Requirement already satisfied: pywin32>=1.0 in c:\\users\\146058\\anaconda3\\lib\\site-packages (from jupyter-core->nbformat>=4.2.0->ipywidgets->pycaret) (227)\n",
      "Requirement already satisfied: pywinpty>=0.5 in c:\\users\\146058\\anaconda3\\lib\\site-packages (from terminado>=0.8.3->notebook>=4.4.1->widgetsnbextension~=3.5.0->ipywidgets->pycaret) (0.5.7)\n",
      "Requirement already satisfied: cffi>=1.0.0 in c:\\users\\146058\\anaconda3\\lib\\site-packages (from argon2-cffi->notebook>=4.4.1->widgetsnbextension~=3.5.0->ipywidgets->pycaret) (1.14.5)\n",
      "Requirement already satisfied: pycparser in c:\\users\\146058\\anaconda3\\lib\\site-packages (from cffi>=1.0.0->argon2-cffi->notebook>=4.4.1->widgetsnbextension~=3.5.0->ipywidgets->pycaret) (2.20)\n",
      "Requirement already satisfied: PyWavelets in c:\\users\\146058\\anaconda3\\lib\\site-packages (from imagehash->visions[type_image_path]==0.7.4->pandas-profiling>=2.8.0->pycaret) (1.1.1)\n",
      "Requirement already satisfied: packaging in c:\\users\\146058\\anaconda3\\lib\\site-packages (from mlflow->pycaret) (20.9)\n",
      "Collecting waitress\n",
      "  Using cached waitress-2.0.0-py3-none-any.whl (56 kB)\n",
      "Collecting querystring-parser\n",
      "  Using cached querystring_parser-1.2.4-py2.py3-none-any.whl (7.9 kB)\n",
      "Requirement already satisfied: importlib-metadata!=4.7.0,>=3.7.0 in c:\\users\\146058\\anaconda3\\lib\\site-packages (from mlflow->pycaret) (3.10.0)\n",
      "Collecting alembic<=1.4.1\n",
      "  Using cached alembic-1.4.1-py2.py3-none-any.whl\n",
      "Requirement already satisfied: protobuf>=3.7.0 in c:\\users\\146058\\anaconda3\\lib\\site-packages (from mlflow->pycaret) (3.17.3)\n",
      "Collecting gitpython>=2.1.0\n",
      "  Using cached GitPython-3.1.24-py3-none-any.whl (180 kB)\n",
      "Requirement already satisfied: cloudpickle in c:\\users\\146058\\anaconda3\\lib\\site-packages (from mlflow->pycaret) (1.6.0)\n",
      "Collecting docker>=4.0.0\n",
      "  Using cached docker-5.0.2-py2.py3-none-any.whl (145 kB)\n",
      "Collecting sqlparse>=0.3.1\n",
      "  Using cached sqlparse-0.4.2-py3-none-any.whl (42 kB)\n",
      "Collecting prometheus-flask-exporter\n",
      "  Using cached prometheus_flask_exporter-0.18.3-py3-none-any.whl (17 kB)\n",
      "Collecting databricks-cli>=0.8.7\n",
      "  Using cached databricks_cli-0.15.0-py3-none-any.whl\n",
      "Requirement already satisfied: click>=7.0 in c:\\users\\146058\\anaconda3\\lib\\site-packages (from mlflow->pycaret) (7.1.2)\n",
      "Requirement already satisfied: Flask in c:\\users\\146058\\anaconda3\\lib\\site-packages (from mlflow->pycaret) (1.1.2)\n",
      "Requirement already satisfied: entrypoints in c:\\users\\146058\\anaconda3\\lib\\site-packages (from mlflow->pycaret) (0.3)\n",
      "Requirement already satisfied: sqlalchemy in c:\\users\\146058\\anaconda3\\lib\\site-packages (from mlflow->pycaret) (1.4.7)\n",
      "Collecting python-editor>=0.3\n",
      "  Using cached python_editor-1.0.4-py3-none-any.whl (4.9 kB)\n",
      "Collecting Mako\n",
      "  Using cached Mako-1.1.5-py2.py3-none-any.whl (75 kB)\n",
      "Collecting tabulate>=0.7.7\n",
      "  Using cached tabulate-0.8.9-py3-none-any.whl (25 kB)\n",
      "Collecting websocket-client>=0.32.0\n",
      "  Using cached websocket_client-1.2.1-py2.py3-none-any.whl (52 kB)\n",
      "Collecting gitdb<5,>=4.0.1\n",
      "  Using cached gitdb-4.0.7-py3-none-any.whl (63 kB)\n",
      "Collecting smmap<5,>=3.0.1\n",
      "  Using cached smmap-4.0.0-py2.py3-none-any.whl (24 kB)\n",
      "Requirement already satisfied: zipp>=0.5 in c:\\users\\146058\\anaconda3\\lib\\site-packages (from importlib-metadata!=4.7.0,>=3.7.0->mlflow->pycaret) (3.4.1)\n",
      "Requirement already satisfied: greenlet!=0.4.17 in c:\\users\\146058\\anaconda3\\lib\\site-packages (from sqlalchemy->mlflow->pycaret) (1.0.0)\n",
      "Requirement already satisfied: itsdangerous>=0.24 in c:\\users\\146058\\anaconda3\\lib\\site-packages (from Flask->mlflow->pycaret) (1.1.0)\n",
      "Requirement already satisfied: Werkzeug>=0.15 in c:\\users\\146058\\anaconda3\\lib\\site-packages (from Flask->mlflow->pycaret) (1.0.1)\n",
      "Requirement already satisfied: nbclient<0.6.0,>=0.5.0 in c:\\users\\146058\\anaconda3\\lib\\site-packages (from nbconvert->notebook>=4.4.1->widgetsnbextension~=3.5.0->ipywidgets->pycaret) (0.5.3)\n",
      "Requirement already satisfied: pandocfilters>=1.4.1 in c:\\users\\146058\\anaconda3\\lib\\site-packages (from nbconvert->notebook>=4.4.1->widgetsnbextension~=3.5.0->ipywidgets->pycaret) (1.4.3)\n",
      "Requirement already satisfied: bleach in c:\\users\\146058\\anaconda3\\lib\\site-packages (from nbconvert->notebook>=4.4.1->widgetsnbextension~=3.5.0->ipywidgets->pycaret) (3.3.0)\n",
      "Requirement already satisfied: testpath in c:\\users\\146058\\anaconda3\\lib\\site-packages (from nbconvert->notebook>=4.4.1->widgetsnbextension~=3.5.0->ipywidgets->pycaret) (0.4.4)\n",
      "Requirement already satisfied: defusedxml in c:\\users\\146058\\anaconda3\\lib\\site-packages (from nbconvert->notebook>=4.4.1->widgetsnbextension~=3.5.0->ipywidgets->pycaret) (0.7.1)\n",
      "Requirement already satisfied: mistune<2,>=0.8.1 in c:\\users\\146058\\anaconda3\\lib\\site-packages (from nbconvert->notebook>=4.4.1->widgetsnbextension~=3.5.0->ipywidgets->pycaret) (0.8.4)\n",
      "Requirement already satisfied: jupyterlab-pygments in c:\\users\\146058\\anaconda3\\lib\\site-packages (from nbconvert->notebook>=4.4.1->widgetsnbextension~=3.5.0->ipywidgets->pycaret) (0.1.2)\n",
      "Requirement already satisfied: async-generator in c:\\users\\146058\\anaconda3\\lib\\site-packages (from nbclient<0.6.0,>=0.5.0->nbconvert->notebook>=4.4.1->widgetsnbextension~=3.5.0->ipywidgets->pycaret) (1.10)\n",
      "Requirement already satisfied: nest-asyncio in c:\\users\\146058\\anaconda3\\lib\\site-packages (from nbclient<0.6.0,>=0.5.0->nbconvert->notebook>=4.4.1->widgetsnbextension~=3.5.0->ipywidgets->pycaret) (1.5.1)\n",
      "Requirement already satisfied: webencodings in c:\\users\\146058\\anaconda3\\lib\\site-packages (from bleach->nbconvert->notebook>=4.4.1->widgetsnbextension~=3.5.0->ipywidgets->pycaret) (0.5.1)\n",
      "Requirement already satisfied: regex in c:\\users\\146058\\anaconda3\\lib\\site-packages (from nltk->pycaret) (2021.4.4)\n",
      "Requirement already satisfied: future in c:\\users\\146058\\anaconda3\\lib\\site-packages (from pyLDAvis->pycaret) (0.18.2)\n",
      "Requirement already satisfied: numexpr in c:\\users\\146058\\anaconda3\\lib\\site-packages (from pyLDAvis->pycaret) (2.7.3)\n",
      "Collecting sklearn\n",
      "  Downloading sklearn-0.0.tar.gz (1.1 kB)\n",
      "Collecting funcy\n",
      "  Using cached funcy-1.16-py2.py3-none-any.whl (32 kB)\n",
      "Collecting pyLDAvis\n",
      "  Using cached pyLDAvis-3.3.0.tar.gz (1.7 MB)\n",
      "  Installing build dependencies: started\n",
      "  Installing build dependencies: finished with status 'done'\n",
      "  Getting requirements to build wheel: started\n",
      "  Getting requirements to build wheel: finished with status 'done'\n",
      "  Installing backend dependencies: started\n",
      "  Installing backend dependencies: finished with status 'done'\n",
      "    Preparing wheel metadata: started\n",
      "    Preparing wheel metadata: finished with status 'done'\n",
      "  Using cached pyLDAvis-3.2.2-py2.py3-none-any.whl\n",
      "Requirement already satisfied: statsmodels in c:\\users\\146058\\anaconda3\\lib\\site-packages (from pyod->pycaret) (0.12.2)\n",
      "Requirement already satisfied: patsy>=0.5 in c:\\users\\146058\\anaconda3\\lib\\site-packages (from statsmodels->pyod->pycaret) (0.5.1)\n",
      "Collecting pynndescent>=0.5\n",
      "  Using cached pynndescent-0.5.4-py3-none-any.whl\n",
      "Installing collected packages: tangled-up-in-unicode, smmap, scipy, murmurhash, multimethod, cymem, websocket-client, wasabi, visions, tabulate, srsly, scikit-learn, python-editor, preshed, plac, Mako, imagehash, gitdb, catalogue, blis, waitress, thinc, sqlparse, smart-open, querystring-parser, pynndescent, pydantic, prometheus-flask-exporter, phik, htmlmin, gitpython, funcy, docker, databricks-cli, Cython, colorlover, alembic, yellowbrick, wordcloud, umap-learn, textblob, spacy, scikit-plot, pyod, pyLDAvis, pandas-profiling, mlxtend, mlflow, kmodes, imbalanced-learn, gensim, cufflinks, Boruta, pycaret\n",
      "Successfully installed Boruta-0.3 Cython-0.29.14 Mako-1.1.5 alembic-1.4.1 blis-0.7.4 catalogue-1.0.0 colorlover-0.3.0 cufflinks-0.17.3 cymem-2.0.5 databricks-cli-0.15.0 docker-5.0.2 funcy-1.16 gensim-3.8.3 gitdb-4.0.7 gitpython-3.1.24 htmlmin-0.1.12 imagehash-4.2.1 imbalanced-learn-0.7.0 kmodes-0.11.0 mlflow-1.20.2 mlxtend-0.19.0 multimethod-1.6 murmurhash-1.0.5 pandas-profiling-3.1.0 phik-0.12.0 plac-1.1.3 preshed-3.0.5 prometheus-flask-exporter-0.18.3 pyLDAvis-3.2.2 pycaret-2.3.4 pydantic-1.8.2 pynndescent-0.5.4 pyod-0.9.4 python-editor-1.0.4 querystring-parser-1.2.4 scikit-learn-0.23.2 scikit-plot-0.3.7 scipy-1.5.4 smart-open-5.2.1 smmap-4.0.0 spacy-2.3.7 sqlparse-0.4.2 srsly-1.0.5 tabulate-0.8.9 tangled-up-in-unicode-0.1.0 textblob-0.15.3 thinc-7.4.5 umap-learn-0.5.1 visions-0.7.4 waitress-2.0.0 wasabi-0.8.2 websocket-client-1.2.1 wordcloud-1.8.1 yellowbrick-1.3.post1\n"
     ]
    },
    {
     "name": "stderr",
     "output_type": "stream",
     "text": [
      "  WARNING: The script tabulate.exe is installed in 'C:\\Users\\146058\\AppData\\Roaming\\Python\\Python38\\Scripts' which is not on PATH.\n",
      "  Consider adding this directory to PATH or, if you prefer to suppress this warning, use --no-warn-script-location.\n",
      "  WARNING: The script mako-render.exe is installed in 'C:\\Users\\146058\\AppData\\Roaming\\Python\\Python38\\Scripts' which is not on PATH.\n",
      "  Consider adding this directory to PATH or, if you prefer to suppress this warning, use --no-warn-script-location.\n",
      "  WARNING: The script waitress-serve.exe is installed in 'C:\\Users\\146058\\AppData\\Roaming\\Python\\Python38\\Scripts' which is not on PATH.\n",
      "  Consider adding this directory to PATH or, if you prefer to suppress this warning, use --no-warn-script-location.\n",
      "  WARNING: The script sqlformat.exe is installed in 'C:\\Users\\146058\\AppData\\Roaming\\Python\\Python38\\Scripts' which is not on PATH.\n",
      "  Consider adding this directory to PATH or, if you prefer to suppress this warning, use --no-warn-script-location.\n",
      "  WARNING: The script phik_trial.exe is installed in 'C:\\Users\\146058\\AppData\\Roaming\\Python\\Python38\\Scripts' which is not on PATH.\n",
      "  Consider adding this directory to PATH or, if you prefer to suppress this warning, use --no-warn-script-location.\n",
      "  WARNING: The script htmlmin.exe is installed in 'C:\\Users\\146058\\AppData\\Roaming\\Python\\Python38\\Scripts' which is not on PATH.\n",
      "  Consider adding this directory to PATH or, if you prefer to suppress this warning, use --no-warn-script-location.\n",
      "  WARNING: The scripts databricks.exe and dbfs.exe are installed in 'C:\\Users\\146058\\AppData\\Roaming\\Python\\Python38\\Scripts' which is not on PATH.\n",
      "  Consider adding this directory to PATH or, if you prefer to suppress this warning, use --no-warn-script-location.\n",
      "  WARNING: The scripts cygdb.exe, cython.exe and cythonize.exe are installed in 'C:\\Users\\146058\\AppData\\Roaming\\Python\\Python38\\Scripts' which is not on PATH.\n",
      "  Consider adding this directory to PATH or, if you prefer to suppress this warning, use --no-warn-script-location.\n",
      "  WARNING: The script alembic.exe is installed in 'C:\\Users\\146058\\AppData\\Roaming\\Python\\Python38\\Scripts' which is not on PATH.\n",
      "  Consider adding this directory to PATH or, if you prefer to suppress this warning, use --no-warn-script-location.\n",
      "  WARNING: The script wordcloud_cli.exe is installed in 'C:\\Users\\146058\\AppData\\Roaming\\Python\\Python38\\Scripts' which is not on PATH.\n",
      "  Consider adding this directory to PATH or, if you prefer to suppress this warning, use --no-warn-script-location.\n",
      "  WARNING: The script pandas_profiling.exe is installed in 'C:\\Users\\146058\\AppData\\Roaming\\Python\\Python38\\Scripts' which is not on PATH.\n",
      "  Consider adding this directory to PATH or, if you prefer to suppress this warning, use --no-warn-script-location.\n",
      "  WARNING: The script mlflow.exe is installed in 'C:\\Users\\146058\\AppData\\Roaming\\Python\\Python38\\Scripts' which is not on PATH.\n",
      "  Consider adding this directory to PATH or, if you prefer to suppress this warning, use --no-warn-script-location.\n"
     ]
    }
   ],
   "source": [
    "!python -m pip install --user pycaret"
   ]
  },
  {
   "cell_type": "code",
   "execution_count": 43,
   "id": "ee9e7e53",
   "metadata": {
    "ExecuteTime": {
     "end_time": "2021-10-05T00:00:29.736771Z",
     "start_time": "2021-10-05T00:00:29.722680Z"
    }
   },
   "outputs": [],
   "source": [
    "# !pip install pycaret"
   ]
  },
  {
   "cell_type": "code",
   "execution_count": 53,
   "id": "48f4fcf9",
   "metadata": {
    "ExecuteTime": {
     "end_time": "2021-10-05T00:15:40.208503Z",
     "start_time": "2021-10-05T00:15:40.201547Z"
    }
   },
   "outputs": [
    {
     "name": "stdout",
     "output_type": "stream",
     "text": [
      "2.3.4\n"
     ]
    }
   ],
   "source": [
    "from pycaret.utils import version\n",
    "print(version())"
   ]
  },
  {
   "cell_type": "code",
   "execution_count": 57,
   "id": "fd7a670c",
   "metadata": {
    "ExecuteTime": {
     "end_time": "2021-10-05T00:17:56.889704Z",
     "start_time": "2021-10-05T00:17:51.185740Z"
    }
   },
   "outputs": [
    {
     "name": "stdout",
     "output_type": "stream",
     "text": [
      "Collecting scikit-learn==0.23.2\n",
      "  Using cached scikit_learn-0.23.2-cp38-cp38-win_amd64.whl (6.8 MB)\n",
      "Requirement already satisfied: threadpoolctl>=2.0.0 in c:\\users\\146058\\anaconda3\\lib\\site-packages (from scikit-learn==0.23.2) (2.1.0)\n",
      "Requirement already satisfied: numpy>=1.13.3 in c:\\users\\146058\\anaconda3\\lib\\site-packages (from scikit-learn==0.23.2) (1.19.5)\n",
      "Requirement already satisfied: joblib>=0.11 in c:\\users\\146058\\anaconda3\\lib\\site-packages (from scikit-learn==0.23.2) (1.0.1)\n",
      "Requirement already satisfied: scipy>=0.19.1 in c:\\users\\146058\\appdata\\roaming\\python\\python38\\site-packages (from scikit-learn==0.23.2) (1.5.4)\n",
      "Installing collected packages: scikit-learn\n",
      "  Attempting uninstall: scikit-learn\n",
      "    Found existing installation: scikit-learn 0.23.0\n",
      "    Uninstalling scikit-learn-0.23.0:\n",
      "      Successfully uninstalled scikit-learn-0.23.0\n",
      "Successfully installed scikit-learn-0.23.2\n"
     ]
    }
   ],
   "source": [
    "!pip install --user scikit-learn==0.23.2"
   ]
  },
  {
   "cell_type": "code",
   "execution_count": null,
   "id": "24f06a6f",
   "metadata": {
    "ExecuteTime": {
     "end_time": "2021-10-05T00:03:01.290922Z",
     "start_time": "2021-10-05T00:02:32.729610Z"
    }
   },
   "outputs": [],
   "source": [
    "from pycaret.classification import *"
   ]
  },
  {
   "cell_type": "code",
   "execution_count": 58,
   "id": "7083b205",
   "metadata": {
    "ExecuteTime": {
     "end_time": "2021-10-05T00:18:02.423050Z",
     "start_time": "2021-10-05T00:18:01.024541Z"
    }
   },
   "outputs": [
    {
     "data": {
      "text/html": [
       "<style  type=\"text/css\" >\n",
       "#T_1147b_row44_col1{\n",
       "            background-color:  lightgreen;\n",
       "        }</style><table id=\"T_1147b_\" ><thead>    <tr>        <th class=\"blank level0\" ></th>        <th class=\"col_heading level0 col0\" >Description</th>        <th class=\"col_heading level0 col1\" >Value</th>    </tr></thead><tbody>\n",
       "                <tr>\n",
       "                        <th id=\"T_1147b_level0_row0\" class=\"row_heading level0 row0\" >0</th>\n",
       "                        <td id=\"T_1147b_row0_col0\" class=\"data row0 col0\" >session_id</td>\n",
       "                        <td id=\"T_1147b_row0_col1\" class=\"data row0 col1\" >2021</td>\n",
       "            </tr>\n",
       "            <tr>\n",
       "                        <th id=\"T_1147b_level0_row1\" class=\"row_heading level0 row1\" >1</th>\n",
       "                        <td id=\"T_1147b_row1_col0\" class=\"data row1 col0\" >Target</td>\n",
       "                        <td id=\"T_1147b_row1_col1\" class=\"data row1 col1\" >quality</td>\n",
       "            </tr>\n",
       "            <tr>\n",
       "                        <th id=\"T_1147b_level0_row2\" class=\"row_heading level0 row2\" >2</th>\n",
       "                        <td id=\"T_1147b_row2_col0\" class=\"data row2 col0\" >Target Type</td>\n",
       "                        <td id=\"T_1147b_row2_col1\" class=\"data row2 col1\" >Multiclass</td>\n",
       "            </tr>\n",
       "            <tr>\n",
       "                        <th id=\"T_1147b_level0_row3\" class=\"row_heading level0 row3\" >3</th>\n",
       "                        <td id=\"T_1147b_row3_col0\" class=\"data row3 col0\" >Label Encoded</td>\n",
       "                        <td id=\"T_1147b_row3_col1\" class=\"data row3 col1\" >None</td>\n",
       "            </tr>\n",
       "            <tr>\n",
       "                        <th id=\"T_1147b_level0_row4\" class=\"row_heading level0 row4\" >4</th>\n",
       "                        <td id=\"T_1147b_row4_col0\" class=\"data row4 col0\" >Original Data</td>\n",
       "                        <td id=\"T_1147b_row4_col1\" class=\"data row4 col1\" >(5497, 14)</td>\n",
       "            </tr>\n",
       "            <tr>\n",
       "                        <th id=\"T_1147b_level0_row5\" class=\"row_heading level0 row5\" >5</th>\n",
       "                        <td id=\"T_1147b_row5_col0\" class=\"data row5 col0\" >Missing Values</td>\n",
       "                        <td id=\"T_1147b_row5_col1\" class=\"data row5 col1\" >False</td>\n",
       "            </tr>\n",
       "            <tr>\n",
       "                        <th id=\"T_1147b_level0_row6\" class=\"row_heading level0 row6\" >6</th>\n",
       "                        <td id=\"T_1147b_row6_col0\" class=\"data row6 col0\" >Numeric Features</td>\n",
       "                        <td id=\"T_1147b_row6_col1\" class=\"data row6 col1\" >11</td>\n",
       "            </tr>\n",
       "            <tr>\n",
       "                        <th id=\"T_1147b_level0_row7\" class=\"row_heading level0 row7\" >7</th>\n",
       "                        <td id=\"T_1147b_row7_col0\" class=\"data row7 col0\" >Categorical Features</td>\n",
       "                        <td id=\"T_1147b_row7_col1\" class=\"data row7 col1\" >1</td>\n",
       "            </tr>\n",
       "            <tr>\n",
       "                        <th id=\"T_1147b_level0_row8\" class=\"row_heading level0 row8\" >8</th>\n",
       "                        <td id=\"T_1147b_row8_col0\" class=\"data row8 col0\" >Ordinal Features</td>\n",
       "                        <td id=\"T_1147b_row8_col1\" class=\"data row8 col1\" >False</td>\n",
       "            </tr>\n",
       "            <tr>\n",
       "                        <th id=\"T_1147b_level0_row9\" class=\"row_heading level0 row9\" >9</th>\n",
       "                        <td id=\"T_1147b_row9_col0\" class=\"data row9 col0\" >High Cardinality Features</td>\n",
       "                        <td id=\"T_1147b_row9_col1\" class=\"data row9 col1\" >False</td>\n",
       "            </tr>\n",
       "            <tr>\n",
       "                        <th id=\"T_1147b_level0_row10\" class=\"row_heading level0 row10\" >10</th>\n",
       "                        <td id=\"T_1147b_row10_col0\" class=\"data row10 col0\" >High Cardinality Method</td>\n",
       "                        <td id=\"T_1147b_row10_col1\" class=\"data row10 col1\" >None</td>\n",
       "            </tr>\n",
       "            <tr>\n",
       "                        <th id=\"T_1147b_level0_row11\" class=\"row_heading level0 row11\" >11</th>\n",
       "                        <td id=\"T_1147b_row11_col0\" class=\"data row11 col0\" >Transformed Train Set</td>\n",
       "                        <td id=\"T_1147b_row11_col1\" class=\"data row11 col1\" >(3847, 12)</td>\n",
       "            </tr>\n",
       "            <tr>\n",
       "                        <th id=\"T_1147b_level0_row12\" class=\"row_heading level0 row12\" >12</th>\n",
       "                        <td id=\"T_1147b_row12_col0\" class=\"data row12 col0\" >Transformed Test Set</td>\n",
       "                        <td id=\"T_1147b_row12_col1\" class=\"data row12 col1\" >(1650, 12)</td>\n",
       "            </tr>\n",
       "            <tr>\n",
       "                        <th id=\"T_1147b_level0_row13\" class=\"row_heading level0 row13\" >13</th>\n",
       "                        <td id=\"T_1147b_row13_col0\" class=\"data row13 col0\" >Shuffle Train-Test</td>\n",
       "                        <td id=\"T_1147b_row13_col1\" class=\"data row13 col1\" >True</td>\n",
       "            </tr>\n",
       "            <tr>\n",
       "                        <th id=\"T_1147b_level0_row14\" class=\"row_heading level0 row14\" >14</th>\n",
       "                        <td id=\"T_1147b_row14_col0\" class=\"data row14 col0\" >Stratify Train-Test</td>\n",
       "                        <td id=\"T_1147b_row14_col1\" class=\"data row14 col1\" >False</td>\n",
       "            </tr>\n",
       "            <tr>\n",
       "                        <th id=\"T_1147b_level0_row15\" class=\"row_heading level0 row15\" >15</th>\n",
       "                        <td id=\"T_1147b_row15_col0\" class=\"data row15 col0\" >Fold Generator</td>\n",
       "                        <td id=\"T_1147b_row15_col1\" class=\"data row15 col1\" >StratifiedKFold</td>\n",
       "            </tr>\n",
       "            <tr>\n",
       "                        <th id=\"T_1147b_level0_row16\" class=\"row_heading level0 row16\" >16</th>\n",
       "                        <td id=\"T_1147b_row16_col0\" class=\"data row16 col0\" >Fold Number</td>\n",
       "                        <td id=\"T_1147b_row16_col1\" class=\"data row16 col1\" >10</td>\n",
       "            </tr>\n",
       "            <tr>\n",
       "                        <th id=\"T_1147b_level0_row17\" class=\"row_heading level0 row17\" >17</th>\n",
       "                        <td id=\"T_1147b_row17_col0\" class=\"data row17 col0\" >CPU Jobs</td>\n",
       "                        <td id=\"T_1147b_row17_col1\" class=\"data row17 col1\" >-1</td>\n",
       "            </tr>\n",
       "            <tr>\n",
       "                        <th id=\"T_1147b_level0_row18\" class=\"row_heading level0 row18\" >18</th>\n",
       "                        <td id=\"T_1147b_row18_col0\" class=\"data row18 col0\" >Use GPU</td>\n",
       "                        <td id=\"T_1147b_row18_col1\" class=\"data row18 col1\" >False</td>\n",
       "            </tr>\n",
       "            <tr>\n",
       "                        <th id=\"T_1147b_level0_row19\" class=\"row_heading level0 row19\" >19</th>\n",
       "                        <td id=\"T_1147b_row19_col0\" class=\"data row19 col0\" >Log Experiment</td>\n",
       "                        <td id=\"T_1147b_row19_col1\" class=\"data row19 col1\" >False</td>\n",
       "            </tr>\n",
       "            <tr>\n",
       "                        <th id=\"T_1147b_level0_row20\" class=\"row_heading level0 row20\" >20</th>\n",
       "                        <td id=\"T_1147b_row20_col0\" class=\"data row20 col0\" >Experiment Name</td>\n",
       "                        <td id=\"T_1147b_row20_col1\" class=\"data row20 col1\" >clf-default-name</td>\n",
       "            </tr>\n",
       "            <tr>\n",
       "                        <th id=\"T_1147b_level0_row21\" class=\"row_heading level0 row21\" >21</th>\n",
       "                        <td id=\"T_1147b_row21_col0\" class=\"data row21 col0\" >USI</td>\n",
       "                        <td id=\"T_1147b_row21_col1\" class=\"data row21 col1\" >f153</td>\n",
       "            </tr>\n",
       "            <tr>\n",
       "                        <th id=\"T_1147b_level0_row22\" class=\"row_heading level0 row22\" >22</th>\n",
       "                        <td id=\"T_1147b_row22_col0\" class=\"data row22 col0\" >Imputation Type</td>\n",
       "                        <td id=\"T_1147b_row22_col1\" class=\"data row22 col1\" >simple</td>\n",
       "            </tr>\n",
       "            <tr>\n",
       "                        <th id=\"T_1147b_level0_row23\" class=\"row_heading level0 row23\" >23</th>\n",
       "                        <td id=\"T_1147b_row23_col0\" class=\"data row23 col0\" >Iterative Imputation Iteration</td>\n",
       "                        <td id=\"T_1147b_row23_col1\" class=\"data row23 col1\" >None</td>\n",
       "            </tr>\n",
       "            <tr>\n",
       "                        <th id=\"T_1147b_level0_row24\" class=\"row_heading level0 row24\" >24</th>\n",
       "                        <td id=\"T_1147b_row24_col0\" class=\"data row24 col0\" >Numeric Imputer</td>\n",
       "                        <td id=\"T_1147b_row24_col1\" class=\"data row24 col1\" >mean</td>\n",
       "            </tr>\n",
       "            <tr>\n",
       "                        <th id=\"T_1147b_level0_row25\" class=\"row_heading level0 row25\" >25</th>\n",
       "                        <td id=\"T_1147b_row25_col0\" class=\"data row25 col0\" >Iterative Imputation Numeric Model</td>\n",
       "                        <td id=\"T_1147b_row25_col1\" class=\"data row25 col1\" >None</td>\n",
       "            </tr>\n",
       "            <tr>\n",
       "                        <th id=\"T_1147b_level0_row26\" class=\"row_heading level0 row26\" >26</th>\n",
       "                        <td id=\"T_1147b_row26_col0\" class=\"data row26 col0\" >Categorical Imputer</td>\n",
       "                        <td id=\"T_1147b_row26_col1\" class=\"data row26 col1\" >constant</td>\n",
       "            </tr>\n",
       "            <tr>\n",
       "                        <th id=\"T_1147b_level0_row27\" class=\"row_heading level0 row27\" >27</th>\n",
       "                        <td id=\"T_1147b_row27_col0\" class=\"data row27 col0\" >Iterative Imputation Categorical Model</td>\n",
       "                        <td id=\"T_1147b_row27_col1\" class=\"data row27 col1\" >None</td>\n",
       "            </tr>\n",
       "            <tr>\n",
       "                        <th id=\"T_1147b_level0_row28\" class=\"row_heading level0 row28\" >28</th>\n",
       "                        <td id=\"T_1147b_row28_col0\" class=\"data row28 col0\" >Unknown Categoricals Handling</td>\n",
       "                        <td id=\"T_1147b_row28_col1\" class=\"data row28 col1\" >least_frequent</td>\n",
       "            </tr>\n",
       "            <tr>\n",
       "                        <th id=\"T_1147b_level0_row29\" class=\"row_heading level0 row29\" >29</th>\n",
       "                        <td id=\"T_1147b_row29_col0\" class=\"data row29 col0\" >Normalize</td>\n",
       "                        <td id=\"T_1147b_row29_col1\" class=\"data row29 col1\" >False</td>\n",
       "            </tr>\n",
       "            <tr>\n",
       "                        <th id=\"T_1147b_level0_row30\" class=\"row_heading level0 row30\" >30</th>\n",
       "                        <td id=\"T_1147b_row30_col0\" class=\"data row30 col0\" >Normalize Method</td>\n",
       "                        <td id=\"T_1147b_row30_col1\" class=\"data row30 col1\" >None</td>\n",
       "            </tr>\n",
       "            <tr>\n",
       "                        <th id=\"T_1147b_level0_row31\" class=\"row_heading level0 row31\" >31</th>\n",
       "                        <td id=\"T_1147b_row31_col0\" class=\"data row31 col0\" >Transformation</td>\n",
       "                        <td id=\"T_1147b_row31_col1\" class=\"data row31 col1\" >False</td>\n",
       "            </tr>\n",
       "            <tr>\n",
       "                        <th id=\"T_1147b_level0_row32\" class=\"row_heading level0 row32\" >32</th>\n",
       "                        <td id=\"T_1147b_row32_col0\" class=\"data row32 col0\" >Transformation Method</td>\n",
       "                        <td id=\"T_1147b_row32_col1\" class=\"data row32 col1\" >None</td>\n",
       "            </tr>\n",
       "            <tr>\n",
       "                        <th id=\"T_1147b_level0_row33\" class=\"row_heading level0 row33\" >33</th>\n",
       "                        <td id=\"T_1147b_row33_col0\" class=\"data row33 col0\" >PCA</td>\n",
       "                        <td id=\"T_1147b_row33_col1\" class=\"data row33 col1\" >False</td>\n",
       "            </tr>\n",
       "            <tr>\n",
       "                        <th id=\"T_1147b_level0_row34\" class=\"row_heading level0 row34\" >34</th>\n",
       "                        <td id=\"T_1147b_row34_col0\" class=\"data row34 col0\" >PCA Method</td>\n",
       "                        <td id=\"T_1147b_row34_col1\" class=\"data row34 col1\" >None</td>\n",
       "            </tr>\n",
       "            <tr>\n",
       "                        <th id=\"T_1147b_level0_row35\" class=\"row_heading level0 row35\" >35</th>\n",
       "                        <td id=\"T_1147b_row35_col0\" class=\"data row35 col0\" >PCA Components</td>\n",
       "                        <td id=\"T_1147b_row35_col1\" class=\"data row35 col1\" >None</td>\n",
       "            </tr>\n",
       "            <tr>\n",
       "                        <th id=\"T_1147b_level0_row36\" class=\"row_heading level0 row36\" >36</th>\n",
       "                        <td id=\"T_1147b_row36_col0\" class=\"data row36 col0\" >Ignore Low Variance</td>\n",
       "                        <td id=\"T_1147b_row36_col1\" class=\"data row36 col1\" >False</td>\n",
       "            </tr>\n",
       "            <tr>\n",
       "                        <th id=\"T_1147b_level0_row37\" class=\"row_heading level0 row37\" >37</th>\n",
       "                        <td id=\"T_1147b_row37_col0\" class=\"data row37 col0\" >Combine Rare Levels</td>\n",
       "                        <td id=\"T_1147b_row37_col1\" class=\"data row37 col1\" >False</td>\n",
       "            </tr>\n",
       "            <tr>\n",
       "                        <th id=\"T_1147b_level0_row38\" class=\"row_heading level0 row38\" >38</th>\n",
       "                        <td id=\"T_1147b_row38_col0\" class=\"data row38 col0\" >Rare Level Threshold</td>\n",
       "                        <td id=\"T_1147b_row38_col1\" class=\"data row38 col1\" >None</td>\n",
       "            </tr>\n",
       "            <tr>\n",
       "                        <th id=\"T_1147b_level0_row39\" class=\"row_heading level0 row39\" >39</th>\n",
       "                        <td id=\"T_1147b_row39_col0\" class=\"data row39 col0\" >Numeric Binning</td>\n",
       "                        <td id=\"T_1147b_row39_col1\" class=\"data row39 col1\" >False</td>\n",
       "            </tr>\n",
       "            <tr>\n",
       "                        <th id=\"T_1147b_level0_row40\" class=\"row_heading level0 row40\" >40</th>\n",
       "                        <td id=\"T_1147b_row40_col0\" class=\"data row40 col0\" >Remove Outliers</td>\n",
       "                        <td id=\"T_1147b_row40_col1\" class=\"data row40 col1\" >False</td>\n",
       "            </tr>\n",
       "            <tr>\n",
       "                        <th id=\"T_1147b_level0_row41\" class=\"row_heading level0 row41\" >41</th>\n",
       "                        <td id=\"T_1147b_row41_col0\" class=\"data row41 col0\" >Outliers Threshold</td>\n",
       "                        <td id=\"T_1147b_row41_col1\" class=\"data row41 col1\" >None</td>\n",
       "            </tr>\n",
       "            <tr>\n",
       "                        <th id=\"T_1147b_level0_row42\" class=\"row_heading level0 row42\" >42</th>\n",
       "                        <td id=\"T_1147b_row42_col0\" class=\"data row42 col0\" >Remove Multicollinearity</td>\n",
       "                        <td id=\"T_1147b_row42_col1\" class=\"data row42 col1\" >False</td>\n",
       "            </tr>\n",
       "            <tr>\n",
       "                        <th id=\"T_1147b_level0_row43\" class=\"row_heading level0 row43\" >43</th>\n",
       "                        <td id=\"T_1147b_row43_col0\" class=\"data row43 col0\" >Multicollinearity Threshold</td>\n",
       "                        <td id=\"T_1147b_row43_col1\" class=\"data row43 col1\" >None</td>\n",
       "            </tr>\n",
       "            <tr>\n",
       "                        <th id=\"T_1147b_level0_row44\" class=\"row_heading level0 row44\" >44</th>\n",
       "                        <td id=\"T_1147b_row44_col0\" class=\"data row44 col0\" >Remove Perfect Collinearity</td>\n",
       "                        <td id=\"T_1147b_row44_col1\" class=\"data row44 col1\" >True</td>\n",
       "            </tr>\n",
       "            <tr>\n",
       "                        <th id=\"T_1147b_level0_row45\" class=\"row_heading level0 row45\" >45</th>\n",
       "                        <td id=\"T_1147b_row45_col0\" class=\"data row45 col0\" >Clustering</td>\n",
       "                        <td id=\"T_1147b_row45_col1\" class=\"data row45 col1\" >False</td>\n",
       "            </tr>\n",
       "            <tr>\n",
       "                        <th id=\"T_1147b_level0_row46\" class=\"row_heading level0 row46\" >46</th>\n",
       "                        <td id=\"T_1147b_row46_col0\" class=\"data row46 col0\" >Clustering Iteration</td>\n",
       "                        <td id=\"T_1147b_row46_col1\" class=\"data row46 col1\" >None</td>\n",
       "            </tr>\n",
       "            <tr>\n",
       "                        <th id=\"T_1147b_level0_row47\" class=\"row_heading level0 row47\" >47</th>\n",
       "                        <td id=\"T_1147b_row47_col0\" class=\"data row47 col0\" >Polynomial Features</td>\n",
       "                        <td id=\"T_1147b_row47_col1\" class=\"data row47 col1\" >False</td>\n",
       "            </tr>\n",
       "            <tr>\n",
       "                        <th id=\"T_1147b_level0_row48\" class=\"row_heading level0 row48\" >48</th>\n",
       "                        <td id=\"T_1147b_row48_col0\" class=\"data row48 col0\" >Polynomial Degree</td>\n",
       "                        <td id=\"T_1147b_row48_col1\" class=\"data row48 col1\" >None</td>\n",
       "            </tr>\n",
       "            <tr>\n",
       "                        <th id=\"T_1147b_level0_row49\" class=\"row_heading level0 row49\" >49</th>\n",
       "                        <td id=\"T_1147b_row49_col0\" class=\"data row49 col0\" >Trignometry Features</td>\n",
       "                        <td id=\"T_1147b_row49_col1\" class=\"data row49 col1\" >False</td>\n",
       "            </tr>\n",
       "            <tr>\n",
       "                        <th id=\"T_1147b_level0_row50\" class=\"row_heading level0 row50\" >50</th>\n",
       "                        <td id=\"T_1147b_row50_col0\" class=\"data row50 col0\" >Polynomial Threshold</td>\n",
       "                        <td id=\"T_1147b_row50_col1\" class=\"data row50 col1\" >None</td>\n",
       "            </tr>\n",
       "            <tr>\n",
       "                        <th id=\"T_1147b_level0_row51\" class=\"row_heading level0 row51\" >51</th>\n",
       "                        <td id=\"T_1147b_row51_col0\" class=\"data row51 col0\" >Group Features</td>\n",
       "                        <td id=\"T_1147b_row51_col1\" class=\"data row51 col1\" >False</td>\n",
       "            </tr>\n",
       "            <tr>\n",
       "                        <th id=\"T_1147b_level0_row52\" class=\"row_heading level0 row52\" >52</th>\n",
       "                        <td id=\"T_1147b_row52_col0\" class=\"data row52 col0\" >Feature Selection</td>\n",
       "                        <td id=\"T_1147b_row52_col1\" class=\"data row52 col1\" >False</td>\n",
       "            </tr>\n",
       "            <tr>\n",
       "                        <th id=\"T_1147b_level0_row53\" class=\"row_heading level0 row53\" >53</th>\n",
       "                        <td id=\"T_1147b_row53_col0\" class=\"data row53 col0\" >Feature Selection Method</td>\n",
       "                        <td id=\"T_1147b_row53_col1\" class=\"data row53 col1\" >classic</td>\n",
       "            </tr>\n",
       "            <tr>\n",
       "                        <th id=\"T_1147b_level0_row54\" class=\"row_heading level0 row54\" >54</th>\n",
       "                        <td id=\"T_1147b_row54_col0\" class=\"data row54 col0\" >Features Selection Threshold</td>\n",
       "                        <td id=\"T_1147b_row54_col1\" class=\"data row54 col1\" >None</td>\n",
       "            </tr>\n",
       "            <tr>\n",
       "                        <th id=\"T_1147b_level0_row55\" class=\"row_heading level0 row55\" >55</th>\n",
       "                        <td id=\"T_1147b_row55_col0\" class=\"data row55 col0\" >Feature Interaction</td>\n",
       "                        <td id=\"T_1147b_row55_col1\" class=\"data row55 col1\" >False</td>\n",
       "            </tr>\n",
       "            <tr>\n",
       "                        <th id=\"T_1147b_level0_row56\" class=\"row_heading level0 row56\" >56</th>\n",
       "                        <td id=\"T_1147b_row56_col0\" class=\"data row56 col0\" >Feature Ratio</td>\n",
       "                        <td id=\"T_1147b_row56_col1\" class=\"data row56 col1\" >False</td>\n",
       "            </tr>\n",
       "            <tr>\n",
       "                        <th id=\"T_1147b_level0_row57\" class=\"row_heading level0 row57\" >57</th>\n",
       "                        <td id=\"T_1147b_row57_col0\" class=\"data row57 col0\" >Interaction Threshold</td>\n",
       "                        <td id=\"T_1147b_row57_col1\" class=\"data row57 col1\" >None</td>\n",
       "            </tr>\n",
       "            <tr>\n",
       "                        <th id=\"T_1147b_level0_row58\" class=\"row_heading level0 row58\" >58</th>\n",
       "                        <td id=\"T_1147b_row58_col0\" class=\"data row58 col0\" >Fix Imbalance</td>\n",
       "                        <td id=\"T_1147b_row58_col1\" class=\"data row58 col1\" >False</td>\n",
       "            </tr>\n",
       "            <tr>\n",
       "                        <th id=\"T_1147b_level0_row59\" class=\"row_heading level0 row59\" >59</th>\n",
       "                        <td id=\"T_1147b_row59_col0\" class=\"data row59 col0\" >Fix Imbalance Method</td>\n",
       "                        <td id=\"T_1147b_row59_col1\" class=\"data row59 col1\" >SMOTE</td>\n",
       "            </tr>\n",
       "    </tbody></table>"
      ],
      "text/plain": [
       "<pandas.io.formats.style.Styler at 0x1f389edc610>"
      ]
     },
     "metadata": {},
     "output_type": "display_data"
    },
    {
     "ename": "AttributeError",
     "evalue": "'Simple_Imputer' object has no attribute 'fill_value_categorical'",
     "output_type": "error",
     "traceback": [
      "\u001b[1;31m---------------------------------------------------------------------------\u001b[0m",
      "\u001b[1;31mAttributeError\u001b[0m                            Traceback (most recent call last)",
      "\u001b[1;32m<ipython-input-58-55675f08a4ad>\u001b[0m in \u001b[0;36m<module>\u001b[1;34m\u001b[0m\n\u001b[0;32m      1\u001b[0m \u001b[0mtrain\u001b[0m \u001b[1;33m=\u001b[0m \u001b[0mpd\u001b[0m\u001b[1;33m.\u001b[0m\u001b[0mread_csv\u001b[0m\u001b[1;33m(\u001b[0m\u001b[1;34m'./data/train.csv'\u001b[0m\u001b[1;33m)\u001b[0m\u001b[1;33m\u001b[0m\u001b[1;33m\u001b[0m\u001b[0m\n\u001b[1;32m----> 2\u001b[1;33m \u001b[0msetup_clf\u001b[0m \u001b[1;33m=\u001b[0m \u001b[0msetup\u001b[0m\u001b[1;33m(\u001b[0m\u001b[0mdata\u001b[0m\u001b[1;33m=\u001b[0m\u001b[0mtrain\u001b[0m\u001b[1;33m,\u001b[0m \u001b[0mtarget\u001b[0m\u001b[1;33m=\u001b[0m\u001b[1;34m'quality'\u001b[0m\u001b[1;33m,\u001b[0m \u001b[0msession_id\u001b[0m\u001b[1;33m=\u001b[0m\u001b[1;36m2021\u001b[0m\u001b[1;33m,\u001b[0m \u001b[0mcategorical_features\u001b[0m\u001b[1;33m=\u001b[0m\u001b[1;33m[\u001b[0m\u001b[1;34m'type'\u001b[0m\u001b[1;33m]\u001b[0m\u001b[1;33m,\u001b[0m \u001b[0mignore_features\u001b[0m\u001b[1;33m=\u001b[0m\u001b[1;33m[\u001b[0m\u001b[1;34m'index'\u001b[0m\u001b[1;33m]\u001b[0m\u001b[1;33m)\u001b[0m\u001b[1;33m\u001b[0m\u001b[1;33m\u001b[0m\u001b[0m\n\u001b[0m",
      "\u001b[1;32m~\\AppData\\Roaming\\Python\\Python38\\site-packages\\pycaret\\classification.py\u001b[0m in \u001b[0;36msetup\u001b[1;34m(data, target, train_size, test_data, preprocess, imputation_type, iterative_imputation_iters, categorical_features, categorical_imputation, categorical_iterative_imputer, ordinal_features, high_cardinality_features, high_cardinality_method, numeric_features, numeric_imputation, numeric_iterative_imputer, date_features, ignore_features, normalize, normalize_method, transformation, transformation_method, handle_unknown_categorical, unknown_categorical_method, pca, pca_method, pca_components, ignore_low_variance, combine_rare_levels, rare_level_threshold, bin_numeric_features, remove_outliers, outliers_threshold, remove_multicollinearity, multicollinearity_threshold, remove_perfect_collinearity, create_clusters, cluster_iter, polynomial_features, polynomial_degree, trigonometry_features, polynomial_threshold, group_features, group_names, feature_selection, feature_selection_threshold, feature_selection_method, feature_interaction, feature_ratio, interaction_threshold, fix_imbalance, fix_imbalance_method, data_split_shuffle, data_split_stratify, fold_strategy, fold, fold_shuffle, fold_groups, n_jobs, use_gpu, custom_pipeline, html, session_id, log_experiment, experiment_name, log_plots, log_profile, log_data, silent, verbose, profile, profile_kwargs)\u001b[0m\n\u001b[0;32m    579\u001b[0m         \u001b[0mlog_plots\u001b[0m \u001b[1;33m=\u001b[0m \u001b[1;33m[\u001b[0m\u001b[1;34m\"auc\"\u001b[0m\u001b[1;33m,\u001b[0m \u001b[1;34m\"confusion_matrix\"\u001b[0m\u001b[1;33m,\u001b[0m \u001b[1;34m\"feature\"\u001b[0m\u001b[1;33m]\u001b[0m\u001b[1;33m\u001b[0m\u001b[1;33m\u001b[0m\u001b[0m\n\u001b[0;32m    580\u001b[0m \u001b[1;33m\u001b[0m\u001b[0m\n\u001b[1;32m--> 581\u001b[1;33m     return pycaret.internal.tabular.setup(\n\u001b[0m\u001b[0;32m    582\u001b[0m         \u001b[0mml_usecase\u001b[0m\u001b[1;33m=\u001b[0m\u001b[1;34m\"classification\"\u001b[0m\u001b[1;33m,\u001b[0m\u001b[1;33m\u001b[0m\u001b[1;33m\u001b[0m\u001b[0m\n\u001b[0;32m    583\u001b[0m         \u001b[0mavailable_plots\u001b[0m\u001b[1;33m=\u001b[0m\u001b[0mavailable_plots\u001b[0m\u001b[1;33m,\u001b[0m\u001b[1;33m\u001b[0m\u001b[1;33m\u001b[0m\u001b[0m\n",
      "\u001b[1;32m~\\AppData\\Roaming\\Python\\Python38\\site-packages\\pycaret\\internal\\tabular.py\u001b[0m in \u001b[0;36msetup\u001b[1;34m(data, target, ml_usecase, available_plots, train_size, test_data, preprocess, imputation_type, iterative_imputation_iters, categorical_features, categorical_imputation, categorical_iterative_imputer, ordinal_features, high_cardinality_features, high_cardinality_method, numeric_features, numeric_imputation, numeric_iterative_imputer, date_features, ignore_features, normalize, normalize_method, transformation, transformation_method, handle_unknown_categorical, unknown_categorical_method, pca, pca_method, pca_components, ignore_low_variance, combine_rare_levels, rare_level_threshold, bin_numeric_features, remove_outliers, outliers_threshold, remove_multicollinearity, multicollinearity_threshold, remove_perfect_collinearity, create_clusters, cluster_iter, polynomial_features, polynomial_degree, trigonometry_features, polynomial_threshold, group_features, group_names, feature_selection, feature_selection_threshold, feature_selection_method, feature_interaction, feature_ratio, interaction_threshold, fix_imbalance, fix_imbalance_method, transform_target, transform_target_method, data_split_shuffle, data_split_stratify, fold_strategy, fold, fold_shuffle, fold_groups, n_jobs, use_gpu, custom_pipeline, html, session_id, log_experiment, experiment_name, log_plots, log_profile, log_data, silent, verbose, profile, profile_kwargs, display)\u001b[0m\n\u001b[0;32m   1773\u001b[0m     \u001b[0mlogger\u001b[0m\u001b[1;33m.\u001b[0m\u001b[0minfo\u001b[0m\u001b[1;33m(\u001b[0m\u001b[1;34mf\"display_container: {len(display_container)}\"\u001b[0m\u001b[1;33m)\u001b[0m\u001b[1;33m\u001b[0m\u001b[1;33m\u001b[0m\u001b[0m\n\u001b[0;32m   1774\u001b[0m \u001b[1;33m\u001b[0m\u001b[0m\n\u001b[1;32m-> 1775\u001b[1;33m     \u001b[0mlogger\u001b[0m\u001b[1;33m.\u001b[0m\u001b[0minfo\u001b[0m\u001b[1;33m(\u001b[0m\u001b[0mstr\u001b[0m\u001b[1;33m(\u001b[0m\u001b[0mprep_pipe\u001b[0m\u001b[1;33m)\u001b[0m\u001b[1;33m)\u001b[0m\u001b[1;33m\u001b[0m\u001b[1;33m\u001b[0m\u001b[0m\n\u001b[0m\u001b[0;32m   1776\u001b[0m     \u001b[0mlogger\u001b[0m\u001b[1;33m.\u001b[0m\u001b[0minfo\u001b[0m\u001b[1;33m(\u001b[0m\u001b[1;34m\"setup() succesfully completed......................................\"\u001b[0m\u001b[1;33m)\u001b[0m\u001b[1;33m\u001b[0m\u001b[1;33m\u001b[0m\u001b[0m\n\u001b[0;32m   1777\u001b[0m \u001b[1;33m\u001b[0m\u001b[0m\n",
      "\u001b[1;32m~\\Anaconda3\\lib\\site-packages\\sklearn\\base.py\u001b[0m in \u001b[0;36m__repr__\u001b[1;34m(self, N_CHAR_MAX)\u001b[0m\n\u001b[0;32m    258\u001b[0m             n_max_elements_to_show=N_MAX_ELEMENTS_TO_SHOW)\n\u001b[0;32m    259\u001b[0m \u001b[1;33m\u001b[0m\u001b[0m\n\u001b[1;32m--> 260\u001b[1;33m         \u001b[0mrepr_\u001b[0m \u001b[1;33m=\u001b[0m \u001b[0mpp\u001b[0m\u001b[1;33m.\u001b[0m\u001b[0mpformat\u001b[0m\u001b[1;33m(\u001b[0m\u001b[0mself\u001b[0m\u001b[1;33m)\u001b[0m\u001b[1;33m\u001b[0m\u001b[1;33m\u001b[0m\u001b[0m\n\u001b[0m\u001b[0;32m    261\u001b[0m \u001b[1;33m\u001b[0m\u001b[0m\n\u001b[0;32m    262\u001b[0m         \u001b[1;31m# Use bruteforce ellipsis when there are a lot of non-blank characters\u001b[0m\u001b[1;33m\u001b[0m\u001b[1;33m\u001b[0m\u001b[1;33m\u001b[0m\u001b[0m\n",
      "\u001b[1;32m~\\Anaconda3\\lib\\pprint.py\u001b[0m in \u001b[0;36mpformat\u001b[1;34m(self, object)\u001b[0m\n\u001b[0;32m    151\u001b[0m     \u001b[1;32mdef\u001b[0m \u001b[0mpformat\u001b[0m\u001b[1;33m(\u001b[0m\u001b[0mself\u001b[0m\u001b[1;33m,\u001b[0m \u001b[0mobject\u001b[0m\u001b[1;33m)\u001b[0m\u001b[1;33m:\u001b[0m\u001b[1;33m\u001b[0m\u001b[1;33m\u001b[0m\u001b[0m\n\u001b[0;32m    152\u001b[0m         \u001b[0msio\u001b[0m \u001b[1;33m=\u001b[0m \u001b[0m_StringIO\u001b[0m\u001b[1;33m(\u001b[0m\u001b[1;33m)\u001b[0m\u001b[1;33m\u001b[0m\u001b[1;33m\u001b[0m\u001b[0m\n\u001b[1;32m--> 153\u001b[1;33m         \u001b[0mself\u001b[0m\u001b[1;33m.\u001b[0m\u001b[0m_format\u001b[0m\u001b[1;33m(\u001b[0m\u001b[0mobject\u001b[0m\u001b[1;33m,\u001b[0m \u001b[0msio\u001b[0m\u001b[1;33m,\u001b[0m \u001b[1;36m0\u001b[0m\u001b[1;33m,\u001b[0m \u001b[1;36m0\u001b[0m\u001b[1;33m,\u001b[0m \u001b[1;33m{\u001b[0m\u001b[1;33m}\u001b[0m\u001b[1;33m,\u001b[0m \u001b[1;36m0\u001b[0m\u001b[1;33m)\u001b[0m\u001b[1;33m\u001b[0m\u001b[1;33m\u001b[0m\u001b[0m\n\u001b[0m\u001b[0;32m    154\u001b[0m         \u001b[1;32mreturn\u001b[0m \u001b[0msio\u001b[0m\u001b[1;33m.\u001b[0m\u001b[0mgetvalue\u001b[0m\u001b[1;33m(\u001b[0m\u001b[1;33m)\u001b[0m\u001b[1;33m\u001b[0m\u001b[1;33m\u001b[0m\u001b[0m\n\u001b[0;32m    155\u001b[0m \u001b[1;33m\u001b[0m\u001b[0m\n",
      "\u001b[1;32m~\\Anaconda3\\lib\\pprint.py\u001b[0m in \u001b[0;36m_format\u001b[1;34m(self, object, stream, indent, allowance, context, level)\u001b[0m\n\u001b[0;32m    168\u001b[0m             \u001b[0mself\u001b[0m\u001b[1;33m.\u001b[0m\u001b[0m_readable\u001b[0m \u001b[1;33m=\u001b[0m \u001b[1;32mFalse\u001b[0m\u001b[1;33m\u001b[0m\u001b[1;33m\u001b[0m\u001b[0m\n\u001b[0;32m    169\u001b[0m             \u001b[1;32mreturn\u001b[0m\u001b[1;33m\u001b[0m\u001b[1;33m\u001b[0m\u001b[0m\n\u001b[1;32m--> 170\u001b[1;33m         \u001b[0mrep\u001b[0m \u001b[1;33m=\u001b[0m \u001b[0mself\u001b[0m\u001b[1;33m.\u001b[0m\u001b[0m_repr\u001b[0m\u001b[1;33m(\u001b[0m\u001b[0mobject\u001b[0m\u001b[1;33m,\u001b[0m \u001b[0mcontext\u001b[0m\u001b[1;33m,\u001b[0m \u001b[0mlevel\u001b[0m\u001b[1;33m)\u001b[0m\u001b[1;33m\u001b[0m\u001b[1;33m\u001b[0m\u001b[0m\n\u001b[0m\u001b[0;32m    171\u001b[0m         \u001b[0mmax_width\u001b[0m \u001b[1;33m=\u001b[0m \u001b[0mself\u001b[0m\u001b[1;33m.\u001b[0m\u001b[0m_width\u001b[0m \u001b[1;33m-\u001b[0m \u001b[0mindent\u001b[0m \u001b[1;33m-\u001b[0m \u001b[0mallowance\u001b[0m\u001b[1;33m\u001b[0m\u001b[1;33m\u001b[0m\u001b[0m\n\u001b[0;32m    172\u001b[0m         \u001b[1;32mif\u001b[0m \u001b[0mlen\u001b[0m\u001b[1;33m(\u001b[0m\u001b[0mrep\u001b[0m\u001b[1;33m)\u001b[0m \u001b[1;33m>\u001b[0m \u001b[0mmax_width\u001b[0m\u001b[1;33m:\u001b[0m\u001b[1;33m\u001b[0m\u001b[1;33m\u001b[0m\u001b[0m\n",
      "\u001b[1;32m~\\Anaconda3\\lib\\pprint.py\u001b[0m in \u001b[0;36m_repr\u001b[1;34m(self, object, context, level)\u001b[0m\n\u001b[0;32m    402\u001b[0m \u001b[1;33m\u001b[0m\u001b[0m\n\u001b[0;32m    403\u001b[0m     \u001b[1;32mdef\u001b[0m \u001b[0m_repr\u001b[0m\u001b[1;33m(\u001b[0m\u001b[0mself\u001b[0m\u001b[1;33m,\u001b[0m \u001b[0mobject\u001b[0m\u001b[1;33m,\u001b[0m \u001b[0mcontext\u001b[0m\u001b[1;33m,\u001b[0m \u001b[0mlevel\u001b[0m\u001b[1;33m)\u001b[0m\u001b[1;33m:\u001b[0m\u001b[1;33m\u001b[0m\u001b[1;33m\u001b[0m\u001b[0m\n\u001b[1;32m--> 404\u001b[1;33m         repr, readable, recursive = self.format(object, context.copy(),\n\u001b[0m\u001b[0;32m    405\u001b[0m                                                 self._depth, level)\n\u001b[0;32m    406\u001b[0m         \u001b[1;32mif\u001b[0m \u001b[1;32mnot\u001b[0m \u001b[0mreadable\u001b[0m\u001b[1;33m:\u001b[0m\u001b[1;33m\u001b[0m\u001b[1;33m\u001b[0m\u001b[0m\n",
      "\u001b[1;32m~\\Anaconda3\\lib\\site-packages\\sklearn\\utils\\_pprint.py\u001b[0m in \u001b[0;36mformat\u001b[1;34m(self, object, context, maxlevels, level)\u001b[0m\n\u001b[0;32m    178\u001b[0m \u001b[1;33m\u001b[0m\u001b[0m\n\u001b[0;32m    179\u001b[0m     \u001b[1;32mdef\u001b[0m \u001b[0mformat\u001b[0m\u001b[1;33m(\u001b[0m\u001b[0mself\u001b[0m\u001b[1;33m,\u001b[0m \u001b[0mobject\u001b[0m\u001b[1;33m,\u001b[0m \u001b[0mcontext\u001b[0m\u001b[1;33m,\u001b[0m \u001b[0mmaxlevels\u001b[0m\u001b[1;33m,\u001b[0m \u001b[0mlevel\u001b[0m\u001b[1;33m)\u001b[0m\u001b[1;33m:\u001b[0m\u001b[1;33m\u001b[0m\u001b[1;33m\u001b[0m\u001b[0m\n\u001b[1;32m--> 180\u001b[1;33m         return _safe_repr(object, context, maxlevels, level,\n\u001b[0m\u001b[0;32m    181\u001b[0m                           changed_only=self._changed_only)\n\u001b[0;32m    182\u001b[0m \u001b[1;33m\u001b[0m\u001b[0m\n",
      "\u001b[1;32m~\\Anaconda3\\lib\\site-packages\\sklearn\\utils\\_pprint.py\u001b[0m in \u001b[0;36m_safe_repr\u001b[1;34m(object, context, maxlevels, level, changed_only)\u001b[0m\n\u001b[0;32m    434\u001b[0m             krepr, kreadable, krecur = saferepr(\n\u001b[0;32m    435\u001b[0m                 k, context, maxlevels, level, changed_only=changed_only)\n\u001b[1;32m--> 436\u001b[1;33m             vrepr, vreadable, vrecur = saferepr(\n\u001b[0m\u001b[0;32m    437\u001b[0m                 v, context, maxlevels, level, changed_only=changed_only)\n\u001b[0;32m    438\u001b[0m             \u001b[0mappend\u001b[0m\u001b[1;33m(\u001b[0m\u001b[1;34m\"%s=%s\"\u001b[0m \u001b[1;33m%\u001b[0m \u001b[1;33m(\u001b[0m\u001b[0mkrepr\u001b[0m\u001b[1;33m.\u001b[0m\u001b[0mstrip\u001b[0m\u001b[1;33m(\u001b[0m\u001b[1;34m\"'\"\u001b[0m\u001b[1;33m)\u001b[0m\u001b[1;33m,\u001b[0m \u001b[0mvrepr\u001b[0m\u001b[1;33m)\u001b[0m\u001b[1;33m)\u001b[0m\u001b[1;33m\u001b[0m\u001b[1;33m\u001b[0m\u001b[0m\n",
      "\u001b[1;32m~\\Anaconda3\\lib\\site-packages\\sklearn\\utils\\_pprint.py\u001b[0m in \u001b[0;36m_safe_repr\u001b[1;34m(object, context, maxlevels, level, changed_only)\u001b[0m\n\u001b[0;32m    403\u001b[0m         \u001b[0mlevel\u001b[0m \u001b[1;33m+=\u001b[0m \u001b[1;36m1\u001b[0m\u001b[1;33m\u001b[0m\u001b[1;33m\u001b[0m\u001b[0m\n\u001b[0;32m    404\u001b[0m         \u001b[1;32mfor\u001b[0m \u001b[0mo\u001b[0m \u001b[1;32min\u001b[0m \u001b[0mobject\u001b[0m\u001b[1;33m:\u001b[0m\u001b[1;33m\u001b[0m\u001b[1;33m\u001b[0m\u001b[0m\n\u001b[1;32m--> 405\u001b[1;33m             orepr, oreadable, orecur = _safe_repr(\n\u001b[0m\u001b[0;32m    406\u001b[0m                 o, context, maxlevels, level, changed_only=changed_only)\n\u001b[0;32m    407\u001b[0m             \u001b[0mappend\u001b[0m\u001b[1;33m(\u001b[0m\u001b[0morepr\u001b[0m\u001b[1;33m)\u001b[0m\u001b[1;33m\u001b[0m\u001b[1;33m\u001b[0m\u001b[0m\n",
      "\u001b[1;32m~\\Anaconda3\\lib\\site-packages\\sklearn\\utils\\_pprint.py\u001b[0m in \u001b[0;36m_safe_repr\u001b[1;34m(object, context, maxlevels, level, changed_only)\u001b[0m\n\u001b[0;32m    403\u001b[0m         \u001b[0mlevel\u001b[0m \u001b[1;33m+=\u001b[0m \u001b[1;36m1\u001b[0m\u001b[1;33m\u001b[0m\u001b[1;33m\u001b[0m\u001b[0m\n\u001b[0;32m    404\u001b[0m         \u001b[1;32mfor\u001b[0m \u001b[0mo\u001b[0m \u001b[1;32min\u001b[0m \u001b[0mobject\u001b[0m\u001b[1;33m:\u001b[0m\u001b[1;33m\u001b[0m\u001b[1;33m\u001b[0m\u001b[0m\n\u001b[1;32m--> 405\u001b[1;33m             orepr, oreadable, orecur = _safe_repr(\n\u001b[0m\u001b[0;32m    406\u001b[0m                 o, context, maxlevels, level, changed_only=changed_only)\n\u001b[0;32m    407\u001b[0m             \u001b[0mappend\u001b[0m\u001b[1;33m(\u001b[0m\u001b[0morepr\u001b[0m\u001b[1;33m)\u001b[0m\u001b[1;33m\u001b[0m\u001b[1;33m\u001b[0m\u001b[0m\n",
      "\u001b[1;32m~\\Anaconda3\\lib\\site-packages\\sklearn\\utils\\_pprint.py\u001b[0m in \u001b[0;36m_safe_repr\u001b[1;34m(object, context, maxlevels, level, changed_only)\u001b[0m\n\u001b[0;32m    425\u001b[0m             \u001b[0mparams\u001b[0m \u001b[1;33m=\u001b[0m \u001b[0m_changed_params\u001b[0m\u001b[1;33m(\u001b[0m\u001b[0mobject\u001b[0m\u001b[1;33m)\u001b[0m\u001b[1;33m\u001b[0m\u001b[1;33m\u001b[0m\u001b[0m\n\u001b[0;32m    426\u001b[0m         \u001b[1;32melse\u001b[0m\u001b[1;33m:\u001b[0m\u001b[1;33m\u001b[0m\u001b[1;33m\u001b[0m\u001b[0m\n\u001b[1;32m--> 427\u001b[1;33m             \u001b[0mparams\u001b[0m \u001b[1;33m=\u001b[0m \u001b[0mobject\u001b[0m\u001b[1;33m.\u001b[0m\u001b[0mget_params\u001b[0m\u001b[1;33m(\u001b[0m\u001b[0mdeep\u001b[0m\u001b[1;33m=\u001b[0m\u001b[1;32mFalse\u001b[0m\u001b[1;33m)\u001b[0m\u001b[1;33m\u001b[0m\u001b[1;33m\u001b[0m\u001b[0m\n\u001b[0m\u001b[0;32m    428\u001b[0m         \u001b[0mcomponents\u001b[0m \u001b[1;33m=\u001b[0m \u001b[1;33m[\u001b[0m\u001b[1;33m]\u001b[0m\u001b[1;33m\u001b[0m\u001b[1;33m\u001b[0m\u001b[0m\n\u001b[0;32m    429\u001b[0m         \u001b[0mappend\u001b[0m \u001b[1;33m=\u001b[0m \u001b[0mcomponents\u001b[0m\u001b[1;33m.\u001b[0m\u001b[0mappend\u001b[0m\u001b[1;33m\u001b[0m\u001b[1;33m\u001b[0m\u001b[0m\n",
      "\u001b[1;32m~\\Anaconda3\\lib\\site-packages\\sklearn\\base.py\u001b[0m in \u001b[0;36mget_params\u001b[1;34m(self, deep)\u001b[0m\n\u001b[0;32m    193\u001b[0m         \u001b[0mout\u001b[0m \u001b[1;33m=\u001b[0m \u001b[0mdict\u001b[0m\u001b[1;33m(\u001b[0m\u001b[1;33m)\u001b[0m\u001b[1;33m\u001b[0m\u001b[1;33m\u001b[0m\u001b[0m\n\u001b[0;32m    194\u001b[0m         \u001b[1;32mfor\u001b[0m \u001b[0mkey\u001b[0m \u001b[1;32min\u001b[0m \u001b[0mself\u001b[0m\u001b[1;33m.\u001b[0m\u001b[0m_get_param_names\u001b[0m\u001b[1;33m(\u001b[0m\u001b[1;33m)\u001b[0m\u001b[1;33m:\u001b[0m\u001b[1;33m\u001b[0m\u001b[1;33m\u001b[0m\u001b[0m\n\u001b[1;32m--> 195\u001b[1;33m             \u001b[0mvalue\u001b[0m \u001b[1;33m=\u001b[0m \u001b[0mgetattr\u001b[0m\u001b[1;33m(\u001b[0m\u001b[0mself\u001b[0m\u001b[1;33m,\u001b[0m \u001b[0mkey\u001b[0m\u001b[1;33m)\u001b[0m\u001b[1;33m\u001b[0m\u001b[1;33m\u001b[0m\u001b[0m\n\u001b[0m\u001b[0;32m    196\u001b[0m             \u001b[1;32mif\u001b[0m \u001b[0mdeep\u001b[0m \u001b[1;32mand\u001b[0m \u001b[0mhasattr\u001b[0m\u001b[1;33m(\u001b[0m\u001b[0mvalue\u001b[0m\u001b[1;33m,\u001b[0m \u001b[1;34m'get_params'\u001b[0m\u001b[1;33m)\u001b[0m\u001b[1;33m:\u001b[0m\u001b[1;33m\u001b[0m\u001b[1;33m\u001b[0m\u001b[0m\n\u001b[0;32m    197\u001b[0m                 \u001b[0mdeep_items\u001b[0m \u001b[1;33m=\u001b[0m \u001b[0mvalue\u001b[0m\u001b[1;33m.\u001b[0m\u001b[0mget_params\u001b[0m\u001b[1;33m(\u001b[0m\u001b[1;33m)\u001b[0m\u001b[1;33m.\u001b[0m\u001b[0mitems\u001b[0m\u001b[1;33m(\u001b[0m\u001b[1;33m)\u001b[0m\u001b[1;33m\u001b[0m\u001b[1;33m\u001b[0m\u001b[0m\n",
      "\u001b[1;31mAttributeError\u001b[0m: 'Simple_Imputer' object has no attribute 'fill_value_categorical'"
     ]
    }
   ],
   "source": [
    "train = pd.read_csv('./data/train.csv')\n",
    "setup_clf = setup(data=train, target='quality', session_id=2021, categorical_features=['type'], ignore_features=['index'])"
   ]
  },
  {
   "cell_type": "code",
   "execution_count": 59,
   "id": "15af5e95",
   "metadata": {
    "ExecuteTime": {
     "end_time": "2021-10-05T00:20:31.349920Z",
     "start_time": "2021-10-05T00:18:28.793634Z"
    }
   },
   "outputs": [
    {
     "data": {
      "text/html": [
       "<style  type=\"text/css\" >\n",
       "</style><table id=\"T_b9ad3_\" ><thead></thead><tbody>\n",
       "        </tbody></table>"
      ],
      "text/plain": [
       "<pandas.io.formats.style.Styler at 0x1f38264eaf0>"
      ]
     },
     "metadata": {},
     "output_type": "display_data"
    }
   ],
   "source": [
    "best_3 = compare_models(sort='Accuracy', n_select=3)"
   ]
  },
  {
   "cell_type": "code",
   "execution_count": null,
   "id": "bad18860",
   "metadata": {},
   "outputs": [],
   "source": [
    "tuned_best_3 = [tune_model(i) for i in best_3]\n",
    "tuned_best_3"
   ]
  },
  {
   "cell_type": "code",
   "execution_count": null,
   "id": "87973f4c",
   "metadata": {},
   "outputs": [],
   "source": [
    "blender_best_3 = blend_models(estimator_list=tuned_best_3)"
   ]
  },
  {
   "cell_type": "code",
   "execution_count": null,
   "id": "f4e5678b",
   "metadata": {},
   "outputs": [],
   "source": [
    "final_model = finalize_model(blender_best_3)\n",
    "prediction = predict_model(final_model, data=test)"
   ]
  },
  {
   "cell_type": "code",
   "execution_count": null,
   "id": "abf73ff9",
   "metadata": {},
   "outputs": [],
   "source": [
    "sub['quality'] = prediction['Label']\n",
    "sub.to_csv('wine_pycaret.csv', index=False)\n",
    "files.download('wine_pycaret.csv')"
   ]
  },
  {
   "cell_type": "markdown",
   "id": "a2792e2b",
   "metadata": {},
   "source": [
    "## 6-1.  회귀분석 Linear Regression"
   ]
  },
  {
   "cell_type": "code",
   "execution_count": 22,
   "id": "95f4f71a",
   "metadata": {
    "ExecuteTime": {
     "end_time": "2021-10-04T23:04:03.877259Z",
     "start_time": "2021-10-04T23:04:03.569825Z"
    }
   },
   "outputs": [
    {
     "name": "stdout",
     "output_type": "stream",
     "text": [
      "valid MAE: 1.525\n"
     ]
    }
   ],
   "source": [
    "# 회귀모델 학습\n",
    "from sklearn.linear_model import LinearRegression\n",
    "\n",
    "lr = LinearRegression()\n",
    "lr.fit(train_X_norm, train_y)\n",
    "\n",
    "# 예측값 생성\n",
    "predicts = lr.predict(valid_X_norm)\n",
    "\n",
    "# 오차계산\n",
    "from sklearn.metrics import mean_absolute_error\n",
    "\n",
    "valid_MAE = mean_absolute_error(valid_y, predicts)\n",
    "print(f\"valid MAE: {valid_MAE:.3f}\")"
   ]
  },
  {
   "cell_type": "markdown",
   "id": "94db0d30",
   "metadata": {},
   "source": [
    "Mean Absolute Error값이 매우 낮게 나왔습니다."
   ]
  },
  {
   "cell_type": "markdown",
   "id": "38ea2f55",
   "metadata": {
    "ExecuteTime": {
     "end_time": "2021-08-27T05:17:41.185083Z",
     "start_time": "2021-08-27T05:17:41.173540Z"
    }
   },
   "source": [
    "y = ax + b 에서 계수 값인 a를  coefficient, b값을 절편 inercept 값이라고 합니다."
   ]
  },
  {
   "cell_type": "code",
   "execution_count": 23,
   "id": "5c11a9d1",
   "metadata": {
    "ExecuteTime": {
     "end_time": "2021-10-04T23:04:10.730886Z",
     "start_time": "2021-10-04T23:04:10.703112Z"
    }
   },
   "outputs": [
    {
     "data": {
      "text/html": [
       "<div>\n",
       "<style scoped>\n",
       "    .dataframe tbody tr th:only-of-type {\n",
       "        vertical-align: middle;\n",
       "    }\n",
       "\n",
       "    .dataframe tbody tr th {\n",
       "        vertical-align: top;\n",
       "    }\n",
       "\n",
       "    .dataframe thead th {\n",
       "        text-align: right;\n",
       "    }\n",
       "</style>\n",
       "<table border=\"1\" class=\"dataframe\">\n",
       "  <thead>\n",
       "    <tr style=\"text-align: right;\">\n",
       "      <th></th>\n",
       "      <th>lr_coef</th>\n",
       "    </tr>\n",
       "  </thead>\n",
       "  <tbody>\n",
       "    <tr>\n",
       "      <th>residual sugar</th>\n",
       "      <td>4.355647</td>\n",
       "    </tr>\n",
       "    <tr>\n",
       "      <th>sulphates</th>\n",
       "      <td>1.397013</td>\n",
       "    </tr>\n",
       "    <tr>\n",
       "      <th>alcohol</th>\n",
       "      <td>1.357907</td>\n",
       "    </tr>\n",
       "    <tr>\n",
       "      <th>free sulfur dioxide</th>\n",
       "      <td>1.223255</td>\n",
       "    </tr>\n",
       "    <tr>\n",
       "      <th>fixed acidity</th>\n",
       "      <td>1.112489</td>\n",
       "    </tr>\n",
       "    <tr>\n",
       "      <th>pH</th>\n",
       "      <td>0.704226</td>\n",
       "    </tr>\n",
       "    <tr>\n",
       "      <th>type</th>\n",
       "      <td>0.380931</td>\n",
       "    </tr>\n",
       "    <tr>\n",
       "      <th>citric acid</th>\n",
       "      <td>-0.200913</td>\n",
       "    </tr>\n",
       "    <tr>\n",
       "      <th>chlorides</th>\n",
       "      <td>-0.271370</td>\n",
       "    </tr>\n",
       "    <tr>\n",
       "      <th>total sulfur dioxide</th>\n",
       "      <td>-0.457333</td>\n",
       "    </tr>\n",
       "    <tr>\n",
       "      <th>volatile acidity</th>\n",
       "      <td>-1.851299</td>\n",
       "    </tr>\n",
       "    <tr>\n",
       "      <th>density</th>\n",
       "      <td>-5.710383</td>\n",
       "    </tr>\n",
       "  </tbody>\n",
       "</table>\n",
       "</div>"
      ],
      "text/plain": [
       "                       lr_coef\n",
       "residual sugar        4.355647\n",
       "sulphates             1.397013\n",
       "alcohol               1.357907\n",
       "free sulfur dioxide   1.223255\n",
       "fixed acidity         1.112489\n",
       "pH                    0.704226\n",
       "type                  0.380931\n",
       "citric acid          -0.200913\n",
       "chlorides            -0.271370\n",
       "total sulfur dioxide -0.457333\n",
       "volatile acidity     -1.851299\n",
       "density              -5.710383"
      ]
     },
     "execution_count": 23,
     "metadata": {},
     "output_type": "execute_result"
    }
   ],
   "source": [
    "lr_coef_df = pd.DataFrame(lr.coef_, index=X.columns, columns=[\"lr_coef\"])\n",
    "lr_coef_df.sort_values(ascending=False, by='lr_coef')"
   ]
  },
  {
   "cell_type": "code",
   "execution_count": 25,
   "id": "02d53beb",
   "metadata": {
    "ExecuteTime": {
     "end_time": "2021-10-04T23:04:22.521096Z",
     "start_time": "2021-10-04T23:04:22.500688Z"
    }
   },
   "outputs": [
    {
     "name": "stdout",
     "output_type": "stream",
     "text": [
      "예측모델 정확도는 -300.24% 입니다.\n"
     ]
    }
   ],
   "source": [
    "# 모델 정확도 계산\n",
    "accuracy = lr.score(valid_X_norm, valid_y)\n",
    "print(\"예측모델 정확도는 {:.2f}% 입니다.\".format(float(accuracy*100)))"
   ]
  },
  {
   "cell_type": "code",
   "execution_count": 58,
   "id": "9fa6010d",
   "metadata": {
    "ExecuteTime": {
     "end_time": "2021-09-07T05:29:48.709221Z",
     "start_time": "2021-09-07T05:29:48.698751Z"
    }
   },
   "outputs": [],
   "source": [
    "# 파이썬 문자열 formatting 참고\n",
    "# https://m.blog.naver.com/PostView.naver?isHttpsRedirect=true&blogId=pgh7092&logNo=221103140268"
   ]
  },
  {
   "cell_type": "markdown",
   "id": "d366a6b5",
   "metadata": {},
   "source": [
    "### 실제값과 모델이 예측한 값을 비교"
   ]
  },
  {
   "cell_type": "code",
   "execution_count": 26,
   "id": "a1da02ea",
   "metadata": {
    "ExecuteTime": {
     "end_time": "2021-10-04T23:06:41.338565Z",
     "start_time": "2021-10-04T23:06:39.452251Z"
    }
   },
   "outputs": [
    {
     "data": {
      "text/plain": [
       "Text(0.5, 1.0, '실제값 vs 예측값 : $Y$ vs $\\\\hat{Y}$')"
      ]
     },
     "execution_count": 26,
     "metadata": {},
     "output_type": "execute_result"
    },
    {
     "data": {
      "image/png": "[encoded data removed]",
      "text/plain": [
       "<Figure size 468x360 with 1 Axes>"
      ]
     },
     "metadata": {
      "needs_background": "light"
     },
     "output_type": "display_data"
    }
   ],
   "source": [
    "import matplotlib.pyplot as plt\n",
    "%matplotlib inline\n",
    "\n",
    "# 한글폰트 설정\n",
    "import matplotlib.font_manager as fm\n",
    "path = 'C:\\\\Windows\\\\Fonts\\\\NanumSquareRoundB.ttf'\n",
    "font_name = fm.FontProperties(fname=path).get_name()\n",
    "plt.rc('font', family=font_name)\n",
    "\n",
    "# 플롯 사이즈 설정\n",
    "plt.figure(figsize=(6.5, 5))\n",
    "\n",
    "Y_pred = lr.predict(valid_X_norm)\n",
    "\n",
    "plt.scatter(valid_y, Y_pred, color='r')\n",
    "plt.plot(valid_y, valid_y)\n",
    "\n",
    "plt.xlabel(\"실제값: Y\")\n",
    "plt.ylabel(\"모델이 예측값 : $\\hat{Y}$\")\n",
    "plt.title(\"실제값 vs 예측값 : $Y$ vs $\\hat{Y}$\")"
   ]
  },
  {
   "cell_type": "code",
   "execution_count": 27,
   "id": "0bfb49ad",
   "metadata": {
    "ExecuteTime": {
     "end_time": "2021-10-04T23:08:17.383929Z",
     "start_time": "2021-10-04T23:08:17.369921Z"
    }
   },
   "outputs": [
    {
     "name": "stdout",
     "output_type": "stream",
     "text": [
      "train MAE: 0.567\n",
      "valid MAE: 1.525\n"
     ]
    }
   ],
   "source": [
    "from sklearn.metrics import mean_absolute_error\n",
    "\n",
    "train_MAE = mean_absolute_error(train_y, lr.predict(train_X_norm))\n",
    "valid_MAE = mean_absolute_error(valid_y, lr.predict(valid_X_norm))\n",
    "\n",
    "print(f\"train MAE: {train_MAE:.3f}\")\n",
    "print(f\"valid MAE: {valid_MAE:.3f}\")"
   ]
  },
  {
   "cell_type": "markdown",
   "id": "07c53039",
   "metadata": {},
   "source": [
    "## LR vs. Ridge vs. Lasso"
   ]
  },
  {
   "cell_type": "markdown",
   "id": "5aab5fde",
   "metadata": {
    "ExecuteTime": {
     "end_time": "2021-08-27T05:21:16.005573Z",
     "start_time": "2021-08-27T05:21:15.978654Z"
    }
   },
   "source": [
    "Resgression 모델에는 크게 LASSO와 Ridge가 있습니다.<br>\n",
    "오차를 계산하는 방식에 따라 L1 Norm 과 L2 Norm 방식을 사용하기 때문입니다.<br>\n",
    "쉽게 L1 Norm는 예측된 y값과 실제 y값의 차이에 절대값 개념이고, L2 Norm 은 오차에 제곱을 한 값입니다."
   ]
  },
  {
   "cell_type": "markdown",
   "id": "8889811d",
   "metadata": {},
   "source": [
    "### 1) Lasso regression"
   ]
  },
  {
   "cell_type": "code",
   "execution_count": 25,
   "id": "cbdd63f9",
   "metadata": {
    "ExecuteTime": {
     "end_time": "2021-09-07T04:37:31.192304Z",
     "start_time": "2021-09-07T04:37:31.178354Z"
    }
   },
   "outputs": [],
   "source": [
    "from sklearn.linear_model import Lasso"
   ]
  },
  {
   "cell_type": "code",
   "execution_count": 26,
   "id": "b6b111b7",
   "metadata": {
    "ExecuteTime": {
     "end_time": "2021-09-07T04:37:31.222519Z",
     "start_time": "2021-09-07T04:37:31.195306Z"
    }
   },
   "outputs": [
    {
     "name": "stdout",
     "output_type": "stream",
     "text": [
      "train: 3.180\n",
      "test: 2.684\n"
     ]
    }
   ],
   "source": [
    "lasso = Lasso(alpha=1)\n",
    "lasso.fit(train_X_norm, train_y)\n",
    "\n",
    "train_rmse = metrics.mean_absolute_error(train_y, lasso.predict(train_X_norm))\n",
    "valid_rmse = metrics.mean_absolute_error(valid_y, lasso.predict(valid_X_norm))\n",
    "\n",
    "print(f\"train: {train_rmse:.3f}\")\n",
    "print(f\"test: {valid_rmse:.3f}\")"
   ]
  },
  {
   "cell_type": "markdown",
   "id": "e6cbbddd",
   "metadata": {},
   "source": [
    "### 2) Ridge regression"
   ]
  },
  {
   "cell_type": "code",
   "execution_count": 27,
   "id": "4799f90c",
   "metadata": {
    "ExecuteTime": {
     "end_time": "2021-09-07T04:37:31.237511Z",
     "start_time": "2021-09-07T04:37:31.225519Z"
    }
   },
   "outputs": [],
   "source": [
    "from sklearn.linear_model import Ridge"
   ]
  },
  {
   "cell_type": "code",
   "execution_count": 28,
   "id": "e373aa1c",
   "metadata": {
    "ExecuteTime": {
     "end_time": "2021-09-07T04:37:31.267383Z",
     "start_time": "2021-09-07T04:37:31.238586Z"
    }
   },
   "outputs": [
    {
     "name": "stdout",
     "output_type": "stream",
     "text": [
      "train: 1.985\n",
      "test: 2.949\n"
     ]
    }
   ],
   "source": [
    "ridge = Ridge(alpha=1)\n",
    "ridge.fit(train_X_norm, train_y)\n",
    "\n",
    "train_MAE = metrics.mean_absolute_error(train_y, ridge.predict(train_X_norm))\n",
    "valid_MAE = metrics.mean_absolute_error(valid_y, ridge.predict(valid_X_norm))\n",
    "\n",
    "print(f\"train: {train_MAE:.3f}\")\n",
    "print(f\"test: {valid_MAE:.3f}\")"
   ]
  },
  {
   "cell_type": "markdown",
   "id": "9cde7ae7",
   "metadata": {},
   "source": [
    "## 6.2 서포트 벡터 머신(SVM)"
   ]
  },
  {
   "cell_type": "code",
   "execution_count": 62,
   "id": "25791b6c",
   "metadata": {
    "ExecuteTime": {
     "end_time": "2021-10-05T00:56:01.391965Z",
     "start_time": "2021-10-05T00:55:57.496455Z"
    }
   },
   "outputs": [
    {
     "name": "stdout",
     "output_type": "stream",
     "text": [
      "training accuracy : 0.5631112121901296\n",
      "testing accuracy : 0.4890909090909091\n"
     ]
    }
   ],
   "source": [
    "from sklearn.svm import SVC\n",
    "\n",
    "# creating the model\n",
    "model = SVC()\n",
    "\n",
    "# feeding the training set into the model\n",
    "model.fit(train_X_norm, train_y)\n",
    "\n",
    "# predicting the results for the test set\n",
    "y_pred = model.predict(train_X_norm)\n",
    "\n",
    "# calculating the training and testing accuracies\n",
    "print(\"training accuracy :\", model.score(train_X_norm, train_y))\n",
    "print(\"testing accuracy :\", model.score(valid_X_norm, valid_y))"
   ]
  },
  {
   "cell_type": "code",
   "execution_count": 63,
   "id": "019bc936",
   "metadata": {
    "ExecuteTime": {
     "end_time": "2021-10-05T00:56:22.603458Z",
     "start_time": "2021-10-05T00:56:22.593735Z"
    }
   },
   "outputs": [],
   "source": [
    "# finding the best parameters for the SVC model\n",
    "\n",
    "param = {\n",
    "    'C': [0.8,0.9,1,1.1,1.2,1.3,1.4],\n",
    "    'kernel':['linear', 'rbf'],\n",
    "    'gamma' :[0.1,0.8,0.9,1,1.1,1.2,1.3,1.4]\n",
    "}\n",
    "grid_svc = GridSearchCV(model, param_grid = param, scoring = 'accuracy', cv = 10)\n"
   ]
  },
  {
   "cell_type": "code",
   "execution_count": null,
   "id": "436fae8e",
   "metadata": {
    "ExecuteTime": {
     "start_time": "2021-10-05T00:56:45.696Z"
    }
   },
   "outputs": [],
   "source": [
    "grid_svc.fit(train_X_norm, train_y)"
   ]
  },
  {
   "cell_type": "code",
   "execution_count": null,
   "id": "9e9fe45e",
   "metadata": {},
   "outputs": [],
   "source": [
    "grid_svc.best_params_"
   ]
  },
  {
   "cell_type": "code",
   "execution_count": null,
   "id": "856f7f8f",
   "metadata": {},
   "outputs": [],
   "source": [
    "# creating a new SVC model with these best parameters\n",
    "\n",
    "model2 = SVC(C = 1.4, gamma = 0.1, kernel = 'rbf')\n",
    "model2.fit(train_X_norm, train_y)\n",
    "y_pred = model2.predict(train_X_norm)\n",
    "\n",
    "print(classification_report(valid_y, y_pred))"
   ]
  },
  {
   "cell_type": "markdown",
   "id": "26387741",
   "metadata": {},
   "source": [
    "## (제외) 6-2. 딥러닝(Deep Learning)\n",
    "구글에서 개발한 딥러닝 플랫폼 tensorflow를 사용하겠습니다.<br>\n",
    "먼저 텐서플로우 설치가 필요합니다."
   ]
  },
  {
   "cell_type": "markdown",
   "id": "9a7ef2dc",
   "metadata": {
    "ExecuteTime": {
     "end_time": "2021-09-06T03:56:46.143222Z",
     "start_time": "2021-09-06T03:56:46.137159Z"
    }
   },
   "source": [
    "### 딥러닝 모델 설계\n",
    "\n",
    "* 과적합 방지 : Dropout<br>\n",
    "train data set 에 지나치게 과적합(overfit) 되는 것을 방지하기 위해서 Dropout을 활용합니다.<br>\n",
    "과적합 방지 방법은 Batch Normalization, Dropout 등이 있습니다. 개별적으로 더 공부해 보시기 바랍니다.\n",
    "\n",
    "* 참고서적 : 딥러닝을 위한 자연어처리 입문(웹북)\n",
    "https://wikidocs.net/61374"
   ]
  },
  {
   "cell_type": "markdown",
   "id": "ceafd1b6",
   "metadata": {},
   "source": [
    "* 딥러닝 모델 학습 시 몇 개의 노드를 제외하고 학습하는 방법\n",
    "* 랜덤하게 사용하지 않을 노드를 결정\n",
    "* 계산이 줄어드는 만큼 variance가 줄어들어 overfitting을 줄일 수 있음."
   ]
  },
  {
   "cell_type": "markdown",
   "id": "f421a037",
   "metadata": {},
   "source": [
    "[MLP설명](https://deepestdocs.readthedocs.io/en/latest/004_deep_learning_part_2/0040/)"
   ]
  },
  {
   "cell_type": "markdown",
   "id": "a3d2324d",
   "metadata": {},
   "source": [
    "**Multi Layer Perceptron**"
   ]
  },
  {
   "cell_type": "code",
   "execution_count": 60,
   "id": "75153a18",
   "metadata": {
    "ExecuteTime": {
     "end_time": "2021-10-05T00:54:21.268432Z",
     "start_time": "2021-10-05T00:54:15.611284Z"
    }
   },
   "outputs": [
    {
     "name": "stdout",
     "output_type": "stream",
     "text": [
      "training accuracy : 0.5842619968160109\n",
      "testing accuracy : 0.4018181818181818\n"
     ]
    }
   ],
   "source": [
    "from sklearn.neural_network import MLPClassifier\n",
    "\n",
    "# creating the model\n",
    "model = MLPClassifier(hidden_layer_sizes = (100, 100), max_iter = 150)\n",
    "\n",
    "# feeding the training data to the model\n",
    "model.fit(train_X_norm, train_y)\n",
    "\n",
    "# calculating the accuracies\n",
    "print(\"training accuracy :\", model.score(train_X_norm, train_y))\n",
    "print(\"testing accuracy :\", model.score(valid_X_norm, valid_y))"
   ]
  },
  {
   "cell_type": "markdown",
   "id": "93069bff",
   "metadata": {},
   "source": [
    "## 6-3. 랜덤포레스트(Random Forest)"
   ]
  },
  {
   "cell_type": "markdown",
   "id": "f402a433",
   "metadata": {},
   "source": [
    "## 6.3.1  RandomForestClassifier"
   ]
  },
  {
   "cell_type": "markdown",
   "id": "de9ef54e",
   "metadata": {},
   "source": [
    "싸이킷런 공식 튜토리얼 [랜덤 포레스트 클레시파이어](https://scikit-learn.org/stable/modules/generated/sklearn.ensemble.RandomForestClassifier.html)"
   ]
  },
  {
   "cell_type": "code",
   "execution_count": 33,
   "id": "0b67b4e5",
   "metadata": {
    "ExecuteTime": {
     "end_time": "2021-10-04T23:19:28.982533Z",
     "start_time": "2021-10-04T23:19:25.990040Z"
    }
   },
   "outputs": [
    {
     "name": "stdout",
     "output_type": "stream",
     "text": [
      "valid MAE: 0.595\n"
     ]
    }
   ],
   "source": [
    "# 필수 라이브러리\n",
    "import pandas as pd\n",
    "import numpy as np\n",
    "import random\n",
    "from sklearn.ensemble import RandomForestClassifier\n",
    "# from sklearn.ensemble import RandomForestRegressor\n",
    "\n",
    "\n",
    "# 2. 변수선택(독립변수, 목적변수)\n",
    "features = ['alcohol', 'density', 'volatile acidity', 'chlorides',\n",
    "       'type', 'citric acid', 'fixed acidity', 'free sulfur dioxide',\n",
    "       'sulphates', 'total sulfur dioxide', 'residual sugar', 'pH']\n",
    "target = 'quality'\n",
    "            \n",
    "X = train[features]\n",
    "y = train[target]\n",
    "\n",
    "# 램덤 시드 고정\n",
    "SEED = 1\n",
    "random.seed(SEED)\n",
    "np.random.seed(SEED)\n",
    "\n",
    "\n",
    "# 데이터 전처리\n",
    "from sklearn import datasets\n",
    "\n",
    "from sklearn import metrics\n",
    "from sklearn import preprocessing\n",
    "from sklearn.model_selection import train_test_split\n",
    "                                                      \n",
    "train_X, valid_X, train_y, valid_y = train_test_split(X, y, test_size=0.2, random_state=1)\n",
    "\n",
    "# 피처 스케일링\n",
    "scaler = preprocessing.MinMaxScaler()\n",
    "\n",
    "train_X_norm = scaler.fit_transform(train_X)\n",
    "valid_X_norm = scaler.fit_transform(valid_X)\n",
    "\n",
    "# 회귀모델 학습\n",
    "\n",
    "RF = RandomForestClassifier()\n",
    "RF.fit(train_X_norm, train_y)\n",
    "\n",
    "# 예측값 생성\n",
    "predicts = RF.predict(valid_X_norm)\n",
    "\n",
    "# 오차계산\n",
    "from sklearn.metrics import mean_absolute_error\n",
    "\n",
    "valid_MAE = mean_absolute_error(valid_y, predicts)\n",
    "print(f\"valid MAE: {valid_MAE:.3f}\")\n",
    "\n",
    "test_X_norm = scaler.transform(test[features])\n",
    "final_predict = RF.predict(test_X_norm)"
   ]
  },
  {
   "cell_type": "markdown",
   "id": "d2879725",
   "metadata": {},
   "source": [
    "## 7. Grid Search\n",
    "Best Parameter와 모델을 찾는 코드입니다."
   ]
  },
  {
   "cell_type": "code",
   "execution_count": 35,
   "id": "07117a94",
   "metadata": {
    "ExecuteTime": {
     "end_time": "2021-10-04T23:26:48.251792Z",
     "start_time": "2021-10-04T23:23:32.155437Z"
    }
   },
   "outputs": [
    {
     "name": "stdout",
     "output_type": "stream",
     "text": [
      "Fitting 10 folds for each of 54 candidates, totalling 540 fits\n"
     ]
    },
    {
     "data": {
      "text/plain": [
       "{'max_depth': None,\n",
       " 'max_features': 'auto',\n",
       " 'min_samples_split': 0.01,\n",
       " 'n_estimators': 150}"
      ]
     },
     "execution_count": 35,
     "metadata": {},
     "output_type": "execute_result"
    }
   ],
   "source": [
    "from sklearn.model_selection import GridSearchCV\n",
    "\n",
    "param_grid = {\n",
    "    'n_estimators': [100, 150, 200],\n",
    "    'max_depth': [None, 6, 9],\n",
    "    'min_samples_split': [0.01, 0.05, 0.1],\n",
    "    'max_features': ['auto', 'sqrt'],\n",
    "}\n",
    "\n",
    "RF = RandomForestClassifier()\n",
    "\n",
    "from sklearn.model_selection import KFold\n",
    "\n",
    "kf = KFold(random_state=30,\n",
    "           n_splits=10,\n",
    "           shuffle=True,\n",
    "          )\n",
    "\n",
    "# define grid_search\n",
    "grid_search = GridSearchCV(estimator=RF, \n",
    "                           param_grid=param_grid, \n",
    "                           cv=kf, \n",
    "                           n_jobs=-1, \n",
    "                           verbose=2\n",
    "                          )\n",
    "\n",
    "# fit with (x_train, y_train)\n",
    "grid_search.fit(train_X_norm, train_y)\n",
    "\n",
    "grid_search.best_params_"
   ]
  },
  {
   "cell_type": "code",
   "execution_count": 34,
   "id": "5c642000",
   "metadata": {
    "ExecuteTime": {
     "end_time": "2021-09-07T04:38:35.541627Z",
     "start_time": "2021-09-07T04:38:35.528670Z"
    }
   },
   "outputs": [],
   "source": [
    "#위에서 찾은 best parameter 을 갖는 모델을 아래와 같이 생성해줄 수 있습니다."
   ]
  },
  {
   "cell_type": "code",
   "execution_count": 35,
   "id": "51a7f039",
   "metadata": {
    "ExecuteTime": {
     "end_time": "2021-09-07T04:38:35.556576Z",
     "start_time": "2021-09-07T04:38:35.543623Z"
    }
   },
   "outputs": [],
   "source": [
    "best_model = grid_search.best_estimator_"
   ]
  },
  {
   "cell_type": "code",
   "execution_count": 36,
   "id": "d5ed9696",
   "metadata": {
    "ExecuteTime": {
     "end_time": "2021-09-07T04:42:06.775524Z",
     "start_time": "2021-09-07T04:38:35.557939Z"
    }
   },
   "outputs": [
    {
     "name": "stdout",
     "output_type": "stream",
     "text": [
      "Fitting 10 folds for each of 252 candidates, totalling 2520 fits\n",
      "valid MAE: 0.889\n"
     ]
    }
   ],
   "source": [
    "# 필수 라이브러리\n",
    "import pandas as pd\n",
    "import numpy as np\n",
    "import random\n",
    "\n",
    "# 데이터 전처리\n",
    "from sklearn import datasets\n",
    "train = df[df.index < pd.to_datetime('2019-12-31')]\n",
    "test = df[df.index > pd.to_datetime('2019-12-31')]\n",
    "\n",
    "\n",
    "# 2. 변수선택(독립변수, 목적변수)\n",
    "features = ['강남구_전세가', '서울_인허가물량', '서울_미분양물량', 'NASDAQCOM', \n",
    "                 'CSUSHPISA', 'HSN1F', 'INTDSRUSM193N', 'USSTHPI', 'M2', 'ICSA']\n",
    "target = '강남구_매매가'\n",
    "            \n",
    "X = train[features]\n",
    "y = train[target]\n",
    "\n",
    "# 램덤 시드 고정\n",
    "SEED = 1\n",
    "random.seed(SEED)\n",
    "np.random.seed(SEED)\n",
    "\n",
    "\n",
    "# 데이터 분할\n",
    "from sklearn.ensemble import RandomForestRegressor\n",
    "from sklearn import metrics\n",
    "from sklearn import preprocessing\n",
    "from sklearn.model_selection import train_test_split\n",
    "                                                      \n",
    "train_X, valid_X, train_y, valid_y = train_test_split(X, y, test_size=0.2, random_state=1)\n",
    "\n",
    "# 피처 스케일링\n",
    "scaler = preprocessing.MinMaxScaler()\n",
    "\n",
    "train_X_norm = scaler.fit_transform(train_X)\n",
    "valid_X_norm = scaler.fit_transform(valid_X)\n",
    "test_X_norm = scaler.transform(test[features])\n",
    "\n",
    "\n",
    "# GridSearch\n",
    "from sklearn.model_selection import GridSearchCV\n",
    "param_grid = {\n",
    "    'n_estimators': [100, 150, 200, 250, 300, 350, 400],\n",
    "    'max_depth': [None, 6, 12, 24, 32, 64],\n",
    "    'min_samples_split': [0.01, 0.05, 0.1],\n",
    "    'max_features': ['auto', 'sqrt'],\n",
    "}\n",
    "\n",
    "RF = RandomForestRegressor()\n",
    "\n",
    "# Cross Validation\n",
    "from sklearn.model_selection import KFold\n",
    "kf = KFold(random_state=30,\n",
    "           n_splits=10,\n",
    "           shuffle=True,\n",
    "          )\n",
    "\n",
    "\n",
    "# define grid_search\n",
    "grid_search = GridSearchCV(estimator=RF, \n",
    "                           param_grid=param_grid, \n",
    "                           cv=kf, \n",
    "                           n_jobs=-1, \n",
    "                           verbose=2\n",
    "                          )\n",
    "\n",
    "grid_search.fit(train_X_norm, train_y)\n",
    "grid_search.best_params_\n",
    "\n",
    "# 베스트 모델 학습\n",
    "best_model.fit(train_X_norm, train_y)\n",
    "\n",
    "# 예측값 생성\n",
    "predicts = best_model.predict(valid_X_norm)\n",
    "\n",
    "# 오차계산\n",
    "from sklearn.metrics import mean_absolute_error\n",
    "\n",
    "valid_MAE = mean_absolute_error(valid_y, predicts)\n",
    "print(f\"valid MAE: {valid_MAE:.3f}\")\n",
    "\n",
    "# test_X_norm = scaler.transform(test[features])\n",
    "final_predict = best_model.predict(test_X_norm)\n"
   ]
  },
  {
   "cell_type": "code",
   "execution_count": 37,
   "id": "3c2f84a5",
   "metadata": {
    "ExecuteTime": {
     "end_time": "2021-09-07T04:42:06.791462Z",
     "start_time": "2021-09-07T04:42:06.776511Z"
    }
   },
   "outputs": [
    {
     "name": "stdout",
     "output_type": "stream",
     "text": [
      "{'max_depth': 64, 'max_features': 'auto', 'min_samples_split': 0.05, 'n_estimators': 200}\n"
     ]
    }
   ],
   "source": [
    "print(grid_search.best_params_)"
   ]
  },
  {
   "cell_type": "markdown",
   "id": "e38b8ccc",
   "metadata": {
    "ExecuteTime": {
     "end_time": "2021-08-23T09:56:05.244624Z",
     "start_time": "2021-08-23T09:56:05.237848Z"
    }
   },
   "source": [
    "# grid search 참고자료\n",
    "https://statkclee.github.io/model/model-python-xgboost-hyper.html"
   ]
  }
 ],
 "metadata": {
  "kernelspec": {
   "display_name": "Python 3",
   "language": "python",
   "name": "python3"
  },
  "language_info": {
   "codemirror_mode": {
    "name": "ipython",
    "version": 3
   },
   "file_extension": ".py",
   "mimetype": "text/x-python",
   "name": "python",
   "nbconvert_exporter": "python",
   "pygments_lexer": "ipython3",
   "version": "3.8.8"
  },
  "latex_envs": {
   "LaTeX_envs_menu_present": true,
   "autoclose": false,
   "autocomplete": true,
   "bibliofile": "biblio.bib",
   "cite_by": "apalike",
   "current_citInitial": 1,
   "eqLabelWithNumbers": true,
   "eqNumInitial": 1,
   "hotkeys": {
    "equation": "Ctrl-E",
    "itemize": "Ctrl-I"
   },
   "labels_anchors": false,
   "latex_user_defs": false,
   "report_style_numbering": false,
   "user_envs_cfg": false
  }
 },
 "nbformat": 4,
 "nbformat_minor": 5
}
